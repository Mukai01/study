{
 "cells": [
  {
   "cell_type": "markdown",
   "id": "13ece1a0",
   "metadata": {},
   "source": [
    "# Translator\n",
    "* https://docs.microsoft.com/ja-jp/azure/cognitive-services/translator/reference/v3-0-reference"
   ]
  },
  {
   "cell_type": "code",
   "execution_count": 1,
   "id": "e7a6e838",
   "metadata": {},
   "outputs": [],
   "source": [
    "# Cognitive Servicesの翻訳のリソースを作成する"
   ]
  },
  {
   "cell_type": "code",
   "execution_count": 2,
   "id": "701eb7ff",
   "metadata": {},
   "outputs": [],
   "source": [
    "base_url = 'api.cognitive.microsofttranslator.com'\n",
    "key = 'xxxx'"
   ]
  },
  {
   "cell_type": "code",
   "execution_count": 3,
   "id": "1558c02c",
   "metadata": {},
   "outputs": [
    {
     "name": "stdout",
     "output_type": "stream",
     "text": [
      "api-version=3.0&to=de\n"
     ]
    }
   ],
   "source": [
    "import urllib, urllib.parse, urllib.error, urllib.request, json, http.client\n",
    "\n",
    "# RegionもAzure PortalのKeyとEndpointから見れる\n",
    "headers = {\n",
    "    'Content-Type':'application/json',\n",
    "    'Ocp-Apim-Subscription-Key':key,\n",
    "    'Ocp-Apim-Subscription-Region':'japaneast'\n",
    "}\n",
    "\n",
    "body = [\n",
    "  {\n",
    "      'Text':'Hola mundo, ¿cómo están?'\n",
    "  },\n",
    "  {\n",
    "      'Text':'Bon jour, mon amie!'\n",
    "  },\n",
    "  {\n",
    "      'Text':'你好吗?'\n",
    "  }\n",
    "]\n",
    "\n",
    "params = urllib.parse.urlencode({\n",
    "    'api-version':'3.0',\n",
    "    'to':'de'\n",
    "})\n",
    "\n",
    "print(params)"
   ]
  },
  {
   "cell_type": "code",
   "execution_count": 4,
   "id": "53852efe",
   "metadata": {},
   "outputs": [
    {
     "data": {
      "text/plain": [
       "b\"[{'Text': 'Hola mundo, \\xc2\\xbfc\\xc3\\xb3mo est\\xc3\\xa1n?'}, {'Text': 'Bon jour, mon amie!'}, {'Text': '\\xe4\\xbd\\xa0\\xe5\\xa5\\xbd\\xe5\\x90\\x97?'}]\""
      ]
     },
     "execution_count": 4,
     "metadata": {},
     "output_type": "execute_result"
    }
   ],
   "source": [
    "# UTF-8 にエンコード\n",
    "str(body).encode('UTF-8')"
   ]
  },
  {
   "cell_type": "code",
   "execution_count": 5,
   "id": "44da4ec2",
   "metadata": {},
   "outputs": [
    {
     "name": "stdout",
     "output_type": "stream",
     "text": [
      "[{'detectedLanguage': {'language': 'es', 'score': 1.0}, 'translations': [{'text': 'Hallo Welt, wie geht es dir?', 'to': 'de'}, {'text': 'Hello world, how are you?', 'to': 'en'}]}, {'detectedLanguage': {'language': 'fr', 'score': 1.0}, 'translations': [{'text': 'Guten Tag, mein Freund!', 'to': 'de'}, {'text': 'Good day, my friend!', 'to': 'en'}]}, {'detectedLanguage': {'language': 'zh-Hans', 'score': 1.0}, 'translations': [{'text': 'Wie geht es dir?', 'to': 'de'}, {'text': 'How are you?', 'to': 'en'}]}]\n"
     ]
    }
   ],
   "source": [
    "try:\n",
    "    conn = http.client.HTTPSConnection(base_url)\n",
    "    # paramsでは同じkeyに対して複数のパラメータを指定できないので、英語にもしたければ下のrequestに直接打つと良い\n",
    "    conn.request('POST', '/translate?%s&to=en' % params, str(body).encode('UTF-8'), headers)\n",
    "    response = conn.getresponse()\n",
    "    jsonData = response.read().decode('UTF-8')\n",
    "    data = json.loads(jsonData)\n",
    "    print(data)\n",
    "    conn.close()\n",
    "except Exception as ex:\n",
    "    print(ex)"
   ]
  },
  {
   "cell_type": "markdown",
   "id": "f4f75653",
   "metadata": {},
   "source": [
    "# Identify Languages\n",
    "* https://westus2.dev.cognitive.microsoft.com/docs/services/TextAnalytics-v2-1/operations/56f30ceeeda5650db055a3c7"
   ]
  },
  {
   "cell_type": "code",
   "execution_count": 6,
   "id": "4672f089",
   "metadata": {},
   "outputs": [],
   "source": [
    "# Cognitive Servicesの言語サービスのリソースを作成する"
   ]
  },
  {
   "cell_type": "code",
   "execution_count": 7,
   "id": "4c1a7779",
   "metadata": {},
   "outputs": [],
   "source": [
    "ta_key = 'xxxx'\n",
    "ta_base_url = 'lpalanguage0701.cognitiveservices.azure.com'"
   ]
  },
  {
   "cell_type": "code",
   "execution_count": 8,
   "id": "52a769b4",
   "metadata": {},
   "outputs": [],
   "source": [
    "ta_headers = {\n",
    "    'Content-Type':'application/json',\n",
    "    'Ocp-Apim-Subscription-Key':ta_key,\n",
    "}\n",
    "\n",
    "ta_body = {\n",
    "    'documents':[\n",
    "      {\n",
    "          'id':'1',\n",
    "          'text':'Hola a todos'\n",
    "      }         \n",
    "    ]\n",
    "}\n",
    "\n",
    "ta_params = urllib.parse.urlencode({})"
   ]
  },
  {
   "cell_type": "code",
   "execution_count": 9,
   "id": "402a2de1",
   "metadata": {},
   "outputs": [
    {
     "name": "stdout",
     "output_type": "stream",
     "text": [
      "data:  {'documents': [{'id': '1', 'detectedLanguages': [{'name': 'Spanish', 'iso6391Name': 'es', 'score': 1.0}]}], 'errors': []}\n",
      "Document 1\n",
      " es\n"
     ]
    }
   ],
   "source": [
    "iso_name = 'en' # デフォルトを英語に設定\n",
    "try:\n",
    "    conn = http.client.HTTPSConnection(ta_base_url)\n",
    "    conn.request('POST', '/text/analytics/v2.1/languages?%s' % ta_params, str(ta_body), ta_headers)\n",
    "    response = conn.getresponse()\n",
    "    jsonData = response.read().decode('UTF-8')\n",
    "    data = json.loads(jsonData)\n",
    "    print('data: ',data)\n",
    "    for document in data['documents']:\n",
    "        print('Document ' + document['id'])\n",
    "        for lan in document['detectedLanguages']:\n",
    "            iso_name = lan['iso6391Name']\n",
    "            print(' ' + lan['iso6391Name'])\n",
    "    conn.close()\n",
    "except Exception as ex:\n",
    "    print(ex)"
   ]
  },
  {
   "cell_type": "code",
   "execution_count": 10,
   "id": "7d3d92ff",
   "metadata": {},
   "outputs": [],
   "source": [
    "# このように書いて、Translatorにつなげることでどの言語からの翻訳かを指定可能\n",
    "params = urllib.parse.urlencode({\n",
    "    'api-version':'3.0',\n",
    "    'to':'de',\n",
    "    'from':iso_name\n",
    "})"
   ]
  },
  {
   "cell_type": "markdown",
   "id": "de90180d",
   "metadata": {},
   "source": [
    "# Speech Translate\n",
    "* https://docs.microsoft.com/ja-jp/azure/cognitive-services/speech-service/get-started-speech-translation?tabs=terminal&pivots=programming-language-python"
   ]
  },
  {
   "cell_type": "code",
   "execution_count": 11,
   "id": "95339ee2",
   "metadata": {},
   "outputs": [],
   "source": [
    "# Cognitive ServicesのSpeechリソースを作成する"
   ]
  },
  {
   "cell_type": "code",
   "execution_count": 12,
   "id": "e9f434e5",
   "metadata": {},
   "outputs": [
    {
     "name": "stdout",
     "output_type": "stream",
     "text": [
      "Requirement already satisfied: azure-cognitiveservices-speech in c:\\users\\nakam\\anaconda3\\lib\\site-packages (1.23.0)\n"
     ]
    }
   ],
   "source": [
    "!pip install azure-cognitiveservices-speech"
   ]
  },
  {
   "cell_type": "code",
   "execution_count": 13,
   "id": "1dfff2e7",
   "metadata": {},
   "outputs": [],
   "source": [
    "import os\n",
    "import azure.cognitiveservices.speech as speechsdk"
   ]
  },
  {
   "cell_type": "code",
   "execution_count": 14,
   "id": "9e6ff056",
   "metadata": {},
   "outputs": [],
   "source": [
    "speech_key = 'xxxx'\n",
    "speech_region = 'eastus'"
   ]
  },
  {
   "cell_type": "code",
   "execution_count": 15,
   "id": "2858fd6f",
   "metadata": {},
   "outputs": [],
   "source": [
    "from_language = 'en-US'\n",
    "to_language = ['ja', 'zh-Hans'] # zh-Hans:Chinese"
   ]
  },
  {
   "cell_type": "code",
   "execution_count": 18,
   "id": "d9373fd0",
   "metadata": {},
   "outputs": [
    {
     "name": "stdout",
     "output_type": "stream",
     "text": [
      "Start talking....\n",
      "TranslationRecognitionResult(result_id=5b7965cfdf0a4387b1dd548a54543a89, translations={'ja': 'こんにちは、はじめまして。', 'zh-Hans': '嗨，很高兴见到你。'}, reason=ResultReason.TranslatedSpeech)\n"
     ]
    }
   ],
   "source": [
    "config = speechsdk.translation.SpeechTranslationConfig(subscription=speech_key, region=speech_region)\n",
    "config.speech_recognition_language = from_language\n",
    "for lan in to_language:\n",
    "    config.add_target_language(lan)\n",
    "\n",
    "recognizer = speechsdk.translation.TranslationRecognizer(translation_config=config)\n",
    "\n",
    "print('Start talking....')\n",
    "result = recognizer.recognize_once()\n",
    "print(result)"
   ]
  },
  {
   "cell_type": "code",
   "execution_count": 19,
   "id": "d08e44ff",
   "metadata": {},
   "outputs": [
    {
     "name": "stdout",
     "output_type": "stream",
     "text": [
      "Hi, nice to meet you. translated to:\n",
      "ja: こんにちは、はじめまして。\n",
      "zh-Hans: 嗨，很高兴见到你。\n"
     ]
    }
   ],
   "source": [
    "print(result.text + ' translated to:')\n",
    "for lan in to_language:\n",
    "    print(lan + ': ' + result.translations[lan])"
   ]
  },
  {
   "cell_type": "code",
   "execution_count": null,
   "id": "c0d6b3c9",
   "metadata": {},
   "outputs": [],
   "source": []
  }
 ],
 "metadata": {
  "kernelspec": {
   "display_name": "Python 3",
   "language": "python",
   "name": "python3"
  },
  "language_info": {
   "codemirror_mode": {
    "name": "ipython",
    "version": 3
   },
   "file_extension": ".py",
   "mimetype": "text/x-python",
   "name": "python",
   "nbconvert_exporter": "python",
   "pygments_lexer": "ipython3",
   "version": "3.8.8"
  }
 },
 "nbformat": 4,
 "nbformat_minor": 5
}
