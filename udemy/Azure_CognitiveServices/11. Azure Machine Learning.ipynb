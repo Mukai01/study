{
 "cells": [
  {
   "cell_type": "markdown",
   "id": "1dccf30e",
   "metadata": {},
   "source": [
    "* Azure Machine Learning Studio\n",
    "* まずはフローを作成する\n",
    "    * loan_data.csv/loan_status.csvを読み込む\n",
    "    * Join Dataでマージする\n",
    "    * Edit Metadata で education/gender,loan_statusをMake categoricalで変換\n",
    "    * Normalize Data でMinMaxを適用\n",
    "    * Normalize Data でage列にzscoreを適用し、正規分布に変換\n",
    "    * Edit Meta Data でloan_ID/due_date/past_due_days/paid_off_timeをFields ⇒ Clear featureとする\n",
    "    * Edit Meta Data でloan_statusをFields ⇒ Labelと変換する\n",
    "    * Split Dataでデータ分割\n",
    "    * Multiclass Decision JungleとSplitDataからTrain Modelへつなげる\n",
    "    * Train ModelとSplitDataからScore Modelにつなげる\n",
    "    * Evaluate Modelで評価\n",
    "* デプロイ\n",
    "    * Deploy Web Service\n",
    "* 必要情報の抽出\n",
    "    * Score ModelからApply SQL Transformationにつなげて、必要な列のみ抽出する\n",
    "        *select Loan_ID, [Scored Labels] as Prediction from t1;"
   ]
  },
  {
   "cell_type": "markdown",
   "id": "8da129aa",
   "metadata": {},
   "source": [
    "# Azure Machine Learning"
   ]
  },
  {
   "cell_type": "code",
   "execution_count": 1,
   "id": "70f07898",
   "metadata": {},
   "outputs": [
    {
     "name": "stdout",
     "output_type": "stream",
     "text": [
      "{'Results': {'output1': {'type': 'table', 'value': {'ColumnNames': ['Loan_ID', 'Prediction'], 'ColumnTypes': ['String', 'String'], 'Values': [['lfui-gregr-9843543-4qf43wf4', 'PAIDOFF']]}}}}\n"
     ]
    }
   ],
   "source": [
    "import urllib.parse, http.client, json\n",
    "\n",
    "service_url = 'ussouthcentral.services.azureml.net'\n",
    "params = urllib.parse.urlencode({\n",
    "  'api-version':'2.0',\n",
    "  'details':True\n",
    "})\n",
    "\n",
    "# endpointはMachine Learning Portalの　REQUEST/RESPONSE　をクリックしてドキュメントを見ることができる\n",
    "endpoint = '/workspaces/xxxx/services/xxxx/execute?%s' % params\n",
    "\n",
    "\n",
    "# Bearer の後にAPIkeyを書く\n",
    "headers = {\n",
    "  'Content-Type':'application/json',\n",
    "  'Authorization':'Bearer xxxx'\n",
    "}\n",
    "\n",
    "body = {\n",
    "  \"Inputs\":{\n",
    "    \"input1\":{\n",
    "      \"ColumnNames\":[\"Loan_ID\", \"Principal\", \"terms\", \"effective_date\", \"due_date\", \"paid_off_time\", \"past_due_days\", \"age\", \"education\", \"Gender\"],\n",
    "      \"Values\":[['lfui-gregr-9843543-4qf43wf4', 700, 24, '2020-01-01T00:00:00', '2021-01-01T00:00:00', '', 0, 25, 'college', 'male']]\n",
    "    }\n",
    "  },\n",
    "  \"GlobalParameters\":{      \n",
    "  }\n",
    "}\n",
    "\n",
    "try:\n",
    "    conn = http.client.HTTPSConnection(service_url)\n",
    "    conn.request('POST', endpoint, str(body), headers)\n",
    "    response = conn.getresponse()\n",
    "    jsonData = response.read()\n",
    "    data = json.loads(jsonData)\n",
    "    print(data)\n",
    "    conn.close()\n",
    "except Exception as ex:\n",
    "    print(ex)"
   ]
  },
  {
   "cell_type": "code",
   "execution_count": null,
   "id": "7961d771",
   "metadata": {},
   "outputs": [],
   "source": []
  }
 ],
 "metadata": {
  "kernelspec": {
   "display_name": "Python 3",
   "language": "python",
   "name": "python3"
  },
  "language_info": {
   "codemirror_mode": {
    "name": "ipython",
    "version": 3
   },
   "file_extension": ".py",
   "mimetype": "text/x-python",
   "name": "python",
   "nbconvert_exporter": "python",
   "pygments_lexer": "ipython3",
   "version": "3.8.8"
  }
 },
 "nbformat": 4,
 "nbformat_minor": 5
}
