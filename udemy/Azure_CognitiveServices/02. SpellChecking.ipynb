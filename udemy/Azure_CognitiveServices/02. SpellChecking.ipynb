{
 "cells": [
  {
   "cell_type": "markdown",
   "id": "ea038f6b",
   "metadata": {},
   "source": [
    "# Spell Checking\n",
    "* https://docs.microsoft.com/ja-jp/bing/search-apis/bing-spell-check/reference/endpoints"
   ]
  },
  {
   "cell_type": "markdown",
   "id": "6a7b2362",
   "metadata": {},
   "source": [
    "Azure PortalからBingリソースを作る。"
   ]
  },
  {
   "cell_type": "code",
   "execution_count": 1,
   "id": "a2fbf51b",
   "metadata": {},
   "outputs": [],
   "source": [
    "key = 'xxxx'"
   ]
  },
  {
   "cell_type": "code",
   "execution_count": 2,
   "id": "bbe713f0",
   "metadata": {},
   "outputs": [
    {
     "name": "stdout",
     "output_type": "stream",
     "text": [
      "/v7.0/spellcheck?mkt=en-US&setLang=EN&text=read&postContextText=carpet\n"
     ]
    }
   ],
   "source": [
    "import http.client, json, urllib.request, urllib.parse, urllib.error, urllib\n",
    "\n",
    "headers = {\n",
    "    'Content-Type':'application/json',\n",
    "    'Ocp-Apim-Subscription-Key':key\n",
    "}\n",
    "\n",
    "# bodyは空で良い\n",
    "# textはurlのパラメータで渡す\n",
    "body = {}\n",
    "\n",
    "# postContextText : 後にくる単語を指定可能\n",
    "# 後にカーペットが来る場合はreadは不適切\n",
    "# preContextText で前にくる単語も指定可能\n",
    "\n",
    "text = 'read'\n",
    "params = urllib.parse.urlencode({\n",
    "    'mkt':'en-US',\n",
    "    'setLang':'EN',\n",
    "    'text':text,\n",
    "    'postContextText':'carpet'\n",
    "})\n",
    "\n",
    "\n",
    "# 文章の判定\n",
    "# text = 'I didnt do my homwork yesterdai.'\n",
    "# params = urllib.parse.urlencode({\n",
    "#     'mkt':'en-US',\n",
    "#     'setLang':'EN',\n",
    "#     'text':text,\n",
    "# })\n",
    "\n",
    "service_url = 'api.bing.microsoft.com'\n",
    "endpoint = '/v7.0/spellcheck?%s' % params\n",
    "\n",
    "print(endpoint)"
   ]
  },
  {
   "cell_type": "code",
   "execution_count": 3,
   "id": "b782518b",
   "metadata": {},
   "outputs": [
    {
     "name": "stdout",
     "output_type": "stream",
     "text": [
      "{'_type': 'SpellCheck', 'flaggedTokens': [{'offset': 0, 'token': 'read', 'type': 'UnknownToken', 'suggestions': [{'suggestion': 'red', 'score': 0.8890575423722356}]}]}\n",
      "Change read for:\n",
      " red - 0.8890575423722356\n",
      "-----------------------------\n"
     ]
    }
   ],
   "source": [
    "try:\n",
    "    conn = http.client.HTTPSConnection(service_url)\n",
    "    conn.request('POST', endpoint, body, headers)\n",
    "    response = conn.getresponse()\n",
    "    jsonData = response.read().decode('UTF-8')\n",
    "    data = json.loads(jsonData) # 文字列を辞書に変更\n",
    "    print(data)\n",
    "    for token in data['flaggedTokens']:\n",
    "        print('Change ' + token['token'] + ' for:')\n",
    "        for suggestion in token['suggestions']:\n",
    "            print(' ' + suggestion['suggestion'] + ' - ' + str(suggestion['score']))\n",
    "        print('-----------------------------')\n",
    "    conn.close()\n",
    "except Exception as ex:\n",
    "    print(ex)"
   ]
  },
  {
   "cell_type": "code",
   "execution_count": null,
   "id": "bb93e64d",
   "metadata": {},
   "outputs": [],
   "source": []
  }
 ],
 "metadata": {
  "kernelspec": {
   "display_name": "Python 3",
   "language": "python",
   "name": "python3"
  },
  "language_info": {
   "codemirror_mode": {
    "name": "ipython",
    "version": 3
   },
   "file_extension": ".py",
   "mimetype": "text/x-python",
   "name": "python",
   "nbconvert_exporter": "python",
   "pygments_lexer": "ipython3",
   "version": "3.8.8"
  }
 },
 "nbformat": 4,
 "nbformat_minor": 5
}
