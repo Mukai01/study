{
 "cells": [
  {
   "cell_type": "markdown",
   "id": "81f3781d",
   "metadata": {},
   "source": [
    "# WorkSpaceの作成"
   ]
  },
  {
   "cell_type": "code",
   "execution_count": 10,
   "id": "f0297a83",
   "metadata": {},
   "outputs": [
    {
     "name": "stderr",
     "output_type": "stream",
     "text": [
      "UserWarning: The resource group doesn't exist or was not provided. AzureML SDK is creating a resource group=AzuremlSDKRG00 in location=japaneast using subscription=3467f739-a57b-4612-9de8-72a6616c01b3.\n"
     ]
    },
    {
     "name": "stdout",
     "output_type": "stream",
     "text": [
      "Deploying KeyVault with name azuremlskeyvaultca514745.\n",
      "Deploying AppInsights with name azuremlsinsights7d67e3c7.\n",
      "Deployed AppInsights with name azuremlsinsights7d67e3c7. Took 6.24 seconds.\n",
      "Deploying StorageAccount with name azuremlsstorage74437b7d7.\n",
      "Deployed KeyVault with name azuremlskeyvaultca514745. Took 22.43 seconds.\n",
      "Deploying Workspace with name Azureml-SDK-WS01.\n",
      "Deployed StorageAccount with name azuremlsstorage74437b7d7. Took 30.94 seconds.\n",
      "Deployed Workspace with name Azureml-SDK-WS01. Took 33.68 seconds.\n"
     ]
    }
   ],
   "source": [
    "from azureml.core import Workspace\n",
    "from azureml.core.authentication import InteractiveLoginAuthentication\n",
    "\n",
    "# これが無いとエラーが出たので追加\n",
    "# tenant_idはActive Directory の プロパティより確認\n",
    "interactive_auth = InteractiveLoginAuthentication(tenant_id=\"bcd8db96-8bb9-4f0d-af35-e471bf92c072\")\n",
    "\n",
    "from azureml.core import Workspace\n",
    "ws = Workspace.create(name='Azureml-SDK-WS01',\n",
    "                     subscription_id='3467f739-a57b-4612-9de8-72a6616c01b3',\n",
    "                     resource_group='AzuremlSDKRG00',\n",
    "                     create_resource_group=True,\n",
    "                     location='japaneast',\n",
    "                     auth=interactive_auth)"
   ]
  },
  {
   "cell_type": "code",
   "execution_count": 12,
   "id": "5804ed4d",
   "metadata": {},
   "outputs": [],
   "source": [
    "# Azure PortalからConfigファイルをダウンロードする\n",
    "# もしくは以下のコードを実行\n",
    "ws.write_config(path=\"./config\")"
   ]
  },
  {
   "cell_type": "markdown",
   "id": "7ad4c1e1",
   "metadata": {},
   "source": [
    "# データストアの作成"
   ]
  },
  {
   "cell_type": "code",
   "execution_count": 13,
   "id": "468f4431",
   "metadata": {},
   "outputs": [],
   "source": [
    "from azureml.core import Workspace, Datastore\n",
    "\n",
    "# ワークスペースにアクセスする\n",
    "ws = Workspace.from_config(path='./config')\n",
    "\n",
    "# データストアの作成\n",
    "az_store = Datastore.register_azure_blob_container(\n",
    "    workspace=ws,\n",
    "    datastore_name='azure_sdk_blob01',\n",
    "    account_name='dp100udemy', #storage accountの名前\n",
    "    container_name='data',\n",
    "    account_key='32cMFMxXzFskFrYFo84e1etBWDDZvUecgxgsXR7w+14M73Ih5lZqVN2VCoTAWp3oDqtMWI6QQCog+AStU5YYbQ==')"
   ]
  },
  {
   "cell_type": "markdown",
   "id": "0a0fdb48",
   "metadata": {},
   "source": [
    "# データセットの作成"
   ]
  },
  {
   "cell_type": "code",
   "execution_count": 18,
   "id": "9c551080",
   "metadata": {},
   "outputs": [],
   "source": [
    "# データセットの作成\n",
    "from azureml.core import Workspace, Datastore, Dataset\n",
    "\n",
    "# ワークスペースにアクセスする\n",
    "ws = Workspace.from_config(path='./config')\n",
    "\n",
    "# データストアにアクセス\n",
    "az_store = Datastore.get(ws, \"azure_sdk_blob01\")"
   ]
  },
  {
   "cell_type": "code",
   "execution_count": 19,
   "id": "065631ad",
   "metadata": {},
   "outputs": [],
   "source": [
    "# csvへのpathを作成\n",
    "# 複数ある場合は,で複数入力可能\n",
    "csv_path = [(az_store, \"data/Loan Approval Prediction.csv\")]\n",
    "\n",
    "# データセットの作成\n",
    "loan_dataset = Dataset.Tabular.from_delimited_files(path=csv_path)\n",
    "\n",
    "# データセットの登録\n",
    "loan_dataset = loan_dataset.register(workspace=ws,\n",
    "                                    name='Loan Applications Using SDK',\n",
    "                                    create_new_version=True) # もし存在しているならnew_versionとして作成する"
   ]
  },
  {
   "cell_type": "markdown",
   "id": "fdd85fe5",
   "metadata": {},
   "source": [
    "# オブジェクトへのアクセス"
   ]
  },
  {
   "cell_type": "code",
   "execution_count": 21,
   "id": "579e04a1",
   "metadata": {},
   "outputs": [],
   "source": [
    "# workspaceのリストを取得する\n",
    "ws_list = Workspace.list(subscription_id='3467f739-a57b-4612-9de8-72a6616c01b3')"
   ]
  },
  {
   "cell_type": "code",
   "execution_count": 23,
   "id": "79a728e6",
   "metadata": {},
   "outputs": [
    {
     "data": {
      "text/plain": [
       "['Azureml-SDK-WS01', 'dp100udemy']"
      ]
     },
     "execution_count": 23,
     "metadata": {},
     "output_type": "execute_result"
    }
   ],
   "source": [
    "ws_list = list(ws_list)\n",
    "ws_list"
   ]
  },
  {
   "cell_type": "code",
   "execution_count": 28,
   "id": "3811ed9c",
   "metadata": {},
   "outputs": [
    {
     "data": {
      "text/plain": [
       "{\n",
       "  \"name\": \"workspaceblobstore\",\n",
       "  \"container_name\": \"azureml-blobstore-27bbdeda-49d1-4f8b-9a75-71d17bc330d8\",\n",
       "  \"account_name\": \"azuremlsstorage74437b7d7\",\n",
       "  \"protocol\": \"https\",\n",
       "  \"endpoint\": \"core.windows.net\"\n",
       "}"
      ]
     },
     "execution_count": 28,
     "metadata": {},
     "output_type": "execute_result"
    }
   ],
   "source": [
    "# デフォルトのデータストアにアクセスする\n",
    "az_default_store = ws.get_default_datastore()\n",
    "az_default_store"
   ]
  },
  {
   "cell_type": "code",
   "execution_count": 29,
   "id": "2fa88dfc",
   "metadata": {
    "scrolled": true
   },
   "outputs": [
    {
     "data": {
      "text/plain": [
       "['azure_sdk_blob01',\n",
       " 'workspacefilestore',\n",
       " 'workspaceblobstore',\n",
       " 'workspaceworkingdirectory',\n",
       " 'workspaceartifactstore']"
      ]
     },
     "execution_count": 29,
     "metadata": {},
     "output_type": "execute_result"
    }
   ],
   "source": [
    "# データストアのリストを取得する\n",
    "store_list = list(ws.datastores)\n",
    "store_list"
   ]
  },
  {
   "cell_type": "code",
   "execution_count": 31,
   "id": "68a7bf6f",
   "metadata": {},
   "outputs": [
    {
     "data": {
      "text/plain": [
       "['Loan Applications Using SDK']"
      ]
     },
     "execution_count": 31,
     "metadata": {},
     "output_type": "execute_result"
    }
   ],
   "source": [
    "# データのリストを取得する\n",
    "ds_list = list(ws.datasets.keys())\n",
    "ds_list"
   ]
  },
  {
   "cell_type": "code",
   "execution_count": 30,
   "id": "1132b5b7",
   "metadata": {},
   "outputs": [
    {
     "data": {
      "text/plain": [
       "{\n",
       "  \"source\": [\n",
       "    \"('azure_sdk_blob01', 'data/Loan Approval Prediction.csv')\"\n",
       "  ],\n",
       "  \"definition\": [\n",
       "    \"GetDatastoreFiles\",\n",
       "    \"ParseDelimited\",\n",
       "    \"DropColumns\",\n",
       "    \"SetColumnTypes\"\n",
       "  ],\n",
       "  \"registration\": {\n",
       "    \"id\": \"44437c86-0df7-44b8-b1f2-e567d7cb91bf\",\n",
       "    \"name\": \"Loan Applications Using SDK\",\n",
       "    \"version\": 1,\n",
       "    \"workspace\": \"Workspace.create(name='Azureml-SDK-WS01', subscription_id='3467f739-a57b-4612-9de8-72a6616c01b3', resource_group='AzuremlSDKRG00')\"\n",
       "  }\n",
       "}"
      ]
     },
     "execution_count": 30,
     "metadata": {},
     "output_type": "execute_result"
    }
   ],
   "source": [
    "# データセットを取得する\n",
    "az_dataset = Dataset.get_by_name(ws, \"Loan Applications Using SDK\")\n",
    "az_dataset"
   ]
  },
  {
   "cell_type": "markdown",
   "id": "c63fb8e6",
   "metadata": {},
   "source": [
    "# DataFrame"
   ]
  },
  {
   "cell_type": "code",
   "execution_count": 37,
   "id": "2e097131",
   "metadata": {},
   "outputs": [],
   "source": [
    "ws = Workspace.from_config('./config')\n",
    "az_store = Datastore.get(ws, 'azure_sdk_blob01')\n",
    "az_dataset = Dataset.get_by_name(ws, 'Loan Applications Using SDK')"
   ]
  },
  {
   "cell_type": "code",
   "execution_count": 38,
   "id": "14f40a9c",
   "metadata": {},
   "outputs": [],
   "source": [
    "# pandas データフレーム\n",
    "df = az_dataset.to_pandas_dataframe()"
   ]
  },
  {
   "cell_type": "code",
   "execution_count": 40,
   "id": "575eb44a",
   "metadata": {},
   "outputs": [
    {
     "name": "stdout",
     "output_type": "stream",
     "text": [
      "Validating arguments.\n",
      "Arguments validated.\n",
      "Successfully obtained datastore reference and path.\n",
      "Uploading file to managed-dataset/28783968-8e3c-4da4-8dc4-0e410cf83157/\n",
      "Successfully uploaded file to datastore.\n",
      "Creating and registering a new dataset.\n",
      "Successfully created and registered a new dataset.\n"
     ]
    }
   ],
   "source": [
    "# データセットにアップロードする\n",
    "df_sub = df[['Married', 'Gender', 'Loan_Status']]\n",
    "az_ds_from_df = Dataset.Tabular.register_pandas_dataframe(dataframe=df_sub,\n",
    "                                                         target=az_store,\n",
    "                                                         name='Loan Dataset From Dataframe')"
   ]
  },
  {
   "cell_type": "markdown",
   "id": "f44e144b",
   "metadata": {},
   "source": [
    "# ローカルファイルのアップロード"
   ]
  },
  {
   "cell_type": "code",
   "execution_count": 44,
   "id": "2cf71caf",
   "metadata": {
    "scrolled": true
   },
   "outputs": [
    {
     "name": "stdout",
     "output_type": "stream",
     "text": [
      "Uploading an estimated of 2 files\n",
      "Uploading ./data/test.csv\n",
      "Uploaded ./data/test.csv, 1 files out of an estimated total of 2\n",
      "Uploading ./data/test1.csv\n",
      "Uploaded ./data/test1.csv, 2 files out of an estimated total of 2\n",
      "Uploaded 2 files\n"
     ]
    },
    {
     "data": {
      "text/plain": [
       "$AZUREML_DATAREFERENCE_021589ba99514c849f1a4317448cdb7d"
      ]
     },
     "execution_count": 44,
     "metadata": {},
     "output_type": "execute_result"
    }
   ],
   "source": [
    "files_list = ['./data/test.csv', './data/test1.csv']\n",
    "az_store.upload_files(files=files_list,\n",
    "                     target_path='Data/',\n",
    "                     relative_root='./data/', # 複数ファイルがこの中に入る\n",
    "                     overwrite=True)"
   ]
  },
  {
   "cell_type": "code",
   "execution_count": 45,
   "id": "b88b6014",
   "metadata": {},
   "outputs": [
    {
     "name": "stderr",
     "output_type": "stream",
     "text": [
      "\"Datastore.upload\" is deprecated after version 1.0.69. Please use \"Dataset.File.upload_directory\" to upload your files             from a local directory and create FileDataset in single method call. See Dataset API change notice at https://aka.ms/dataset-deprecation.\n"
     ]
    },
    {
     "name": "stdout",
     "output_type": "stream",
     "text": [
      "Uploading an estimated of 2 files\n",
      "Uploading ./data\\test.csv\n",
      "Uploaded ./data\\test.csv, 1 files out of an estimated total of 2\n",
      "Uploading ./data\\test1.csv\n",
      "Uploaded ./data\\test1.csv, 2 files out of an estimated total of 2\n",
      "Uploaded 2 files\n"
     ]
    },
    {
     "data": {
      "text/plain": [
       "$AZUREML_DATAREFERENCE_2480040aa53e433f80477e156f64efd6"
      ]
     },
     "execution_count": 45,
     "metadata": {},
     "output_type": "execute_result"
    }
   ],
   "source": [
    "# フォルダーのアップロード\n",
    "az_store.upload(src_dir='./data',\n",
    "               target_path='Data/data',\n",
    "               overwrite=True)"
   ]
  }
 ],
 "metadata": {
  "kernelspec": {
   "display_name": "Python 3",
   "language": "python",
   "name": "python3"
  },
  "language_info": {
   "codemirror_mode": {
    "name": "ipython",
    "version": 3
   },
   "file_extension": ".py",
   "mimetype": "text/x-python",
   "name": "python",
   "nbconvert_exporter": "python",
   "pygments_lexer": "ipython3",
   "version": "3.8.8"
  }
 },
 "nbformat": 4,
 "nbformat_minor": 5
}
