{
 "cells": [
  {
   "cell_type": "markdown",
   "metadata": {},
   "source": [
    "# Speech to Text"
   ]
  },
  {
   "cell_type": "markdown",
   "metadata": {},
   "source": [
    "* Anaconda ⇒ Environment ⇒ Terminalで以下を実施\n",
    "* pip install git+https://github.com/Uberi/speech_recognition.git"
   ]
  },
  {
   "cell_type": "code",
   "execution_count": 1,
   "metadata": {},
   "outputs": [
    {
     "name": "stdout",
     "output_type": "stream",
     "text": [
      "Requirement already satisfied: pyaudio in c:\\users\\nakam\\anaconda3\\lib\\site-packages (0.2.12)\n"
     ]
    }
   ],
   "source": [
    "!pip install pyaudio"
   ]
  },
  {
   "cell_type": "code",
   "execution_count": 2,
   "metadata": {},
   "outputs": [
    {
     "name": "stdout",
     "output_type": "stream",
     "text": [
      "Say something!\n",
      "result:\n",
      "{   'DisplayText': 'Hi, nice to meet you.',\n",
      "    'Duration': 13700000,\n",
      "    'NBest': [   {   'Confidence': 0.90035766,\n",
      "                     'Display': 'Hi, nice to meet you.',\n",
      "                     'ITN': 'hi nice to meet you',\n",
      "                     'Lexical': 'hi nice to meet you',\n",
      "                     'MaskedITN': 'hi nice to meet you'}],\n",
      "    'Offset': 14600000,\n",
      "    'RecognitionStatus': 'Success'}\n",
      "Here's what I heard:\n",
      "('Hi, nice to meet you.', 0.90035766)\n"
     ]
    }
   ],
   "source": [
    "import speech_recognition as sr\n",
    "\n",
    "r = sr.Recognizer()\n",
    "with sr.Microphone() as source:\n",
    "    print('Say something!')\n",
    "    audio = r.listen(source)\n",
    "try:\n",
    "    # keyはAzure Portalからコピーする\n",
    "    text = r.recognize_azure(audio, key='xxxx',location=\"japaneast\")\n",
    "    print(\"Here's what I heard:\")\n",
    "    print(text)\n",
    "except sr.UnknownValueError:\n",
    "    print(\"I'm sorry, I didn't catch that\")\n",
    "except sr.RequestError as re:\n",
    "    print(re)\n",
    "except Exception as e:\n",
    "    print(e)"
   ]
  },
  {
   "cell_type": "code",
   "execution_count": 3,
   "metadata": {},
   "outputs": [],
   "source": [
    "# ファイルを読む場合はこちら\n",
    "\n",
    "# r = sr.Recognizer()\n",
    "\n",
    "# with sr.AudioFile('autiotest.wav') as source:\n",
    "#     audio = r.record(source)\n",
    "    \n",
    "# try:\n",
    "#     # keyはAzure Portalからコピーする\n",
    "#     # スペイン語のファイルなので指定する\n",
    "#     text = r.recognize_bing(audio, key='xxxx',location=\"japaneast\", language=\"es-MX\")\n",
    "#     print(\"Here's what I heard:\")\n",
    "#     print(text)\n",
    "# except sr.UnknownValueError:\n",
    "#     print(\"I'm sorry, I didn't catch that\")\n",
    "# except sr.RequestError as re:\n",
    "#     print(re)\n",
    "# except Exception as e:\n",
    "#     print(e)"
   ]
  },
  {
   "cell_type": "markdown",
   "metadata": {},
   "source": [
    "# Text to Speech"
   ]
  },
  {
   "cell_type": "code",
   "execution_count": 11,
   "metadata": {},
   "outputs": [],
   "source": [
    "import requests\n",
    "from datetime import timedelta\n",
    "from datetime import datetime\n",
    "\n",
    "key = '64645aabad72435e8be5d6152ead7a4d'\n",
    "\n",
    "token = None\n",
    "valid_until = datetime.utcnow() + timedelta(minutes=-8)\n",
    "def get_token(key, token, valid_until):\n",
    "    if token is None or (datetime.utcnow() > valid_until):\n",
    "        # Azure Portalのエンドポイントからコピーする\n",
    "        url = 'https://eastus.api.cognitive.microsoft.com/sts/v1.0/issuetoken'\n",
    "        headers = {\n",
    "            'Ocp-Apim-Subscription-Key':key,\n",
    "        }\n",
    "        \n",
    "        response = requests.post(url, headers=headers)\n",
    "        response.raise_for_status()\n",
    "        \n",
    "        token = str(response.text)\n",
    "        valid_until = datetime.utcnow() + timedelta(minutes=8) # tokenは10分有効だが余裕をみて8分に設定\n",
    "    return token"
   ]
  },
  {
   "cell_type": "code",
   "execution_count": 12,
   "metadata": {},
   "outputs": [
    {
     "name": "stdout",
     "output_type": "stream",
     "text": [
      "eyJhbGciOiJodHRwOi8vd3d3LnczLm9yZy8yMDAxLzA0L3htbGRzaWctbW9yZSNobWFjLXNoYTI1NiIsInR5cCI6IkpXVCJ9.eyJyZWdpb24iOiJlYXN0dXMiLCJzdWJzY3JpcHRpb24taWQiOiJlNzhhNGM3YjNkNGE0MWJjYjY0ZDA2YjdlN2M0MjYyZSIsInByb2R1Y3QtaWQiOiJTcGVlY2hTZXJ2aWNlcy5TMCIsImNvZ25pdGl2ZS1zZXJ2aWNlcy1lbmRwb2ludCI6Imh0dHBzOi8vYXBpLmNvZ25pdGl2ZS5taWNyb3NvZnQuY29tL2ludGVybmFsL3YxLjAvIiwiYXp1cmUtcmVzb3VyY2UtaWQiOiIvc3Vic2NyaXB0aW9ucy8zNDY3ZjczOS1hNTdiLTQ2MTItOWRlOC03MmE2NjE2YzAxYjMvcmVzb3VyY2VHcm91cHMvc3BlZWNoL3Byb3ZpZGVycy9NaWNyb3NvZnQuQ29nbml0aXZlU2VydmljZXMvYWNjb3VudHMvc3BlZWNoZWFzdHVzIiwic2NvcGUiOiJzcGVlY2hzZXJ2aWNlcyIsImF1ZCI6InVybjptcy5zcGVlY2hzZXJ2aWNlcy5lYXN0dXMiLCJleHAiOjE2NjY0MzAxNzksImlzcyI6InVybjptcy5jb2duaXRpdmVzZXJ2aWNlcyJ9.Ao1GP6HjFXHEOzhm9xVrkl0MiVjl1yHTqqLbNHvjdqU\n"
     ]
    }
   ],
   "source": [
    "# tokenを取得\n",
    "token = get_token(key, token, valid_until)\n",
    "print(token)"
   ]
  },
  {
   "cell_type": "code",
   "execution_count": 13,
   "metadata": {
    "scrolled": true
   },
   "outputs": [
    {
     "name": "stdout",
     "output_type": "stream",
     "text": [
      "eyJhbGciOiJodHRwOi8vd3d3LnczLm9yZy8yMDAxLzA0L3htbGRzaWctbW9yZSNobWFjLXNoYTI1NiIsInR5cCI6IkpXVCJ9.eyJyZWdpb24iOiJlYXN0dXMiLCJzdWJzY3JpcHRpb24taWQiOiJlNzhhNGM3YjNkNGE0MWJjYjY0ZDA2YjdlN2M0MjYyZSIsInByb2R1Y3QtaWQiOiJTcGVlY2hTZXJ2aWNlcy5TMCIsImNvZ25pdGl2ZS1zZXJ2aWNlcy1lbmRwb2ludCI6Imh0dHBzOi8vYXBpLmNvZ25pdGl2ZS5taWNyb3NvZnQuY29tL2ludGVybmFsL3YxLjAvIiwiYXp1cmUtcmVzb3VyY2UtaWQiOiIvc3Vic2NyaXB0aW9ucy8zNDY3ZjczOS1hNTdiLTQ2MTItOWRlOC03MmE2NjE2YzAxYjMvcmVzb3VyY2VHcm91cHMvc3BlZWNoL3Byb3ZpZGVycy9NaWNyb3NvZnQuQ29nbml0aXZlU2VydmljZXMvYWNjb3VudHMvc3BlZWNoZWFzdHVzIiwic2NvcGUiOiJzcGVlY2hzZXJ2aWNlcyIsImF1ZCI6InVybjptcy5zcGVlY2hzZXJ2aWNlcy5lYXN0dXMiLCJleHAiOjE2NjY0MzAxODAsImlzcyI6InVybjptcy5jb2duaXRpdmVzZXJ2aWNlcyJ9.hE-HVNI00Fy_I1BTraVFi8VeX38jcoCNyxZZzW2E5Ew\n",
      "<Response [200]>\n"
     ]
    }
   ],
   "source": [
    "token = get_token(key, token, valid_until)\n",
    "print(token)\n",
    "\n",
    "headers = {\n",
    "    'Content-Type':'application/ssml+xml',\n",
    "    'X-Microsoft-OutputFormat':'audio-16khz-128kbitrate-mono-mp3',\n",
    "    'Authorization':'Bearer ' + token\n",
    "}\n",
    "\n",
    "\n",
    "body = \"<speak version='1.0' xml:lang='en-US'><voice xml:lang='en-US' xml:gender='Male' name='en-US-ChristopherNeural'> Microsoft Speech Service Text-to-Speech API test </voice></speak>\"\n",
    "url = 'https://eastus.tts.speech.microsoft.com/cognitiveservices/v1'\n",
    "\n",
    "response = requests.post(url, headers=headers, data=body)\n",
    "print(response)\n",
    "\n",
    "file = open('example1.mp3', 'wb')\n",
    "file.write(response.content)\n",
    "file.close()"
   ]
  },
  {
   "cell_type": "markdown",
   "metadata": {},
   "source": [
    "# Speaker Recognition\n",
    "* https://westus.dev.cognitive.microsoft.com/docs/services/563309b6778daf02acc0a508/operations/5652c0801984551c3859634d"
   ]
  },
  {
   "cell_type": "code",
   "execution_count": 7,
   "metadata": {},
   "outputs": [
    {
     "name": "stdout",
     "output_type": "stream",
     "text": [
      "i am going to make him an offer he cannot refuse\n"
     ]
    }
   ],
   "source": [
    "# verifyの為のフレーズを一つ取得する\n",
    "import http.client, urllib.request, urllib.parse, urllib.error, base64, json\n",
    "\n",
    "headers = {\n",
    "    \"Ocp-Apim-Subscription-Key\":\"xxxx\"\n",
    "}\n",
    "\n",
    "params = urllib.parse.urlencode({\n",
    "    'locale':'en-US'\n",
    "})\n",
    "\n",
    "try:\n",
    "    conn = http.client.HTTPSConnection(\"westus.api.cognitive.microsoft.com\")\n",
    "    conn.request('GET', '/spid/v1.0/verificationPhrases?%s' % params, \"{body}\", headers)\n",
    "    response = conn.getresponse()\n",
    "    jsonData = response.read()\n",
    "    data = json.loads(jsonData)\n",
    "    # フレーズを一つ取得する\n",
    "    print(data[0]['phrase'])\n",
    "    conn.close()\n",
    "except Exception as ex:\n",
    "    print(ex)"
   ]
  },
  {
   "cell_type": "code",
   "execution_count": 36,
   "metadata": {},
   "outputs": [
    {
     "name": "stdout",
     "output_type": "stream",
     "text": [
      "e140bd5b-3ea6-4ab4-837e-667f7b6560a2\n"
     ]
    }
   ],
   "source": [
    "headers_profile = {\n",
    "    \"Ocp-Apim-Subscription-Key\":\"xxxx\",\n",
    "    \"Content-Type\":\"application/json\"\n",
    "}\n",
    "\n",
    "body_profile = {\n",
    "    \"locale\":\"en-US\"\n",
    "}\n",
    "\n",
    "params_profile = urllib.parse.urlencode({\n",
    "})\n",
    "\n",
    "verificationProfileId = \"\"\n",
    "\n",
    "try:\n",
    "    conn = http.client.HTTPSConnection(\"westus.api.cognitive.microsoft.com\")\n",
    "    conn.request(\"POST\", \"/spid/v1.0/verificationProfiles?%s\" % params_profile, str(body_profile), headers_profile)\n",
    "    response = conn.getresponse()\n",
    "    jsonData = response.read()\n",
    "    data = json.loads(jsonData)\n",
    "    verificationProfileId = data[\"verificationProfileId\"]\n",
    "    # verification ProfileIdを取得\n",
    "    print(data[\"verificationProfileId\"])\n",
    "    conn.close()\n",
    "except Exception as ex:\n",
    "    print(ex)"
   ]
  },
  {
   "cell_type": "code",
   "execution_count": 41,
   "metadata": {},
   "outputs": [
    {
     "name": "stdout",
     "output_type": "stream",
     "text": [
      "{'enrollmentStatus': 'Enrolled', 'enrollmentsCount': 3, 'remainingEnrollments': 0, 'phrase': 'i am going to make him an offer he cannot refuse'}\n"
     ]
    }
   ],
   "source": [
    "import pyaudio, wave, struct\n",
    "from array import array\n",
    "\n",
    "headers_enrollment = {\n",
    "    \"Ocp-Apim-Subscription-Key\":\"xxxx\",\n",
    "    \"Content-Type\":\"multipart/form-data\",\n",
    "    \"Accept\":\"application/json\"\n",
    "}\n",
    "\n",
    "def create_audio_file(audio_file_name):\n",
    "    CHUNK = 1024\n",
    "    FORMAT = pyaudio.paInt16 # ドキュメントで指定されている\n",
    "    CHANNELS = 1 # ドキュメントで指定されている\n",
    "    RATE = 16000\n",
    "    RECORD_SECONDS = 5\n",
    "    BYTES_PER_SAMPLE = 2\n",
    "\n",
    "    p = pyaudio.PyAudio()\n",
    "\n",
    "    stream = p.open(format=FORMAT,\n",
    "                   channels=CHANNELS,\n",
    "                   rate=RATE,\n",
    "                   input=True,\n",
    "                   output=True,\n",
    "                   frames_per_buffer=CHUNK)\n",
    "\n",
    "    wav = array('h')\n",
    "    wav.extend(str.encode(\"RIFF\"))\n",
    "    wav.extend(struct.pack('<L', 0))\n",
    "    wav.extend(str.encode('WAVE'))\n",
    "    wav.extend(str.encode('fmt'))\n",
    "    wav.extend(struct.pack('<L', 16))\n",
    "    wav.extend(struct.pack('<H', 1))\n",
    "    wav.extend(struct.pack('<H', CHANNELS))\n",
    "    wav.extend(struct.pack('<L', RATE))\n",
    "    wav.extend(struct.pack('<L', RATE * CHANNELS * BYTES_PER_SAMPLE))\n",
    "    wav.extend(struct.pack('<H', CHANNELS * BYTES_PER_SAMPLE))\n",
    "    wav.extend(struct.pack('<H', BYTES_PER_SAMPLE * 8))\n",
    "    wav.extend(str.encode('data'))\n",
    "    wav.extend(struct.pack('<L', 0))\n",
    "\n",
    "    for i in range(0, RATE // CHUNK * RECORD_SECONDS):\n",
    "        audio = array('h', stream.read(CHUNK, exception_on_overflow=False))\n",
    "        wav.extend(audio)\n",
    "\n",
    "    wav_width = p.get_sample_size(FORMAT)\n",
    "    stream.stop_stream()\n",
    "    stream.close()\n",
    "    p.terminate()\n",
    "\n",
    "    data = struct.pack('<' + ('h'*len(wav)), *wav)\n",
    "    file = wave.open(audio_file_name, \"wb\")\n",
    "    file.setnchannels(CHANNELS)\n",
    "    file.setsampwidth(wav_width)\n",
    "    file.setframerate(RATE)\n",
    "    file.writeframes(data)\n",
    "    file.close()\n",
    "\n",
    "# 音声ファイルの作成\n",
    "audio_file_name = \"audio.wav\"\n",
    "create_audio_file(audio_file_name)\n",
    "\n",
    "# 音声ファイルのオープン\n",
    "with open(audio_file_name, \"rb\") as body:\n",
    "    endpoint = \"/spid/v1.0/verificationProfiles/{0}/enroll\".format(verificationProfileId)\n",
    "    conn = http.client.HTTPSConnection(\"westus.api.cognitive.microsoft.com\")\n",
    "    conn.request(\"POST\", endpoint, body, headers_enrollment)\n",
    "    response = conn.getresponse()\n",
    "    jsonData = response.read()\n",
    "    data = json.loads(jsonData)\n",
    "    print(data)\n",
    "    conn.close()"
   ]
  },
  {
   "cell_type": "code",
   "execution_count": 70,
   "metadata": {},
   "outputs": [],
   "source": [
    "def get_profile_id():\n",
    "    get_profiles_headers = {\n",
    "        'Ocp-Apim-Subscription-Key':\"xxxx\"\n",
    "    }\n",
    "\n",
    "    get_profile_params = urllib.parse.urlencode({\n",
    "    })\n",
    "\n",
    "    try:\n",
    "        conn = http.client.HTTPSConnection(\"westus.api.cognitive.microsoft.com\")\n",
    "        conn.request(\"GET\", \"/spid/v1.0/verificationProfiles?%s\" % get_profile_params, \"{body}\", get_profiles_headers)\n",
    "        response = conn.getresponse()\n",
    "        jsonData = response.read()\n",
    "        data = json.loads(jsonData)\n",
    "        print(data)\n",
    "        \n",
    "        # profileを削除するときはこのコード\n",
    "#         for verificationProfile in data:\n",
    "#             if(verificationProfile[\"verificationProfileId\"] != \"e140bd5b-3ea6-4ab4-837e-667f7b6560a2\"):\n",
    "#                 conn.request(\"DELETE\", \"/spid/v1.0/verificationProfiles/\" + verificationProfile[\"verificationProfileId\"], \"{body}\", get_profiles_headers)\n",
    "#                 response = conn.getresponse()\n",
    "#                 print(response)\n",
    "        \n",
    "        conn.close()\n",
    "        return data[0]['verificationProfileId']\n",
    "    except Exception as ex:\n",
    "        print(ex)"
   ]
  },
  {
   "cell_type": "code",
   "execution_count": 71,
   "metadata": {
    "scrolled": true
   },
   "outputs": [
    {
     "name": "stdout",
     "output_type": "stream",
     "text": [
      "[{'verificationProfileId': 'e140bd5b-3ea6-4ab4-837e-667f7b6560a2', 'enrollmentsCount': 3, 'remainingEnrollmentsCount': 0, 'locale': 'en-us', 'createdDateTime': '2022-08-22T09:05:33.933Z', 'lastActionDateTime': '2022-08-22T09:06:14.966Z', 'enrollmentStatus': 'Enrolled'}]\n"
     ]
    },
    {
     "data": {
      "text/plain": [
       "'e140bd5b-3ea6-4ab4-837e-667f7b6560a2'"
      ]
     },
     "execution_count": 71,
     "metadata": {},
     "output_type": "execute_result"
    }
   ],
   "source": [
    "# profile_idの確認\n",
    "get_profile_id()"
   ]
  },
  {
   "cell_type": "code",
   "execution_count": 75,
   "metadata": {},
   "outputs": [
    {
     "name": "stdout",
     "output_type": "stream",
     "text": [
      "[{'verificationProfileId': 'e140bd5b-3ea6-4ab4-837e-667f7b6560a2', 'enrollmentsCount': 3, 'remainingEnrollmentsCount': 0, 'locale': 'en-us', 'createdDateTime': '2022-08-22T09:05:33.933Z', 'lastActionDateTime': '2022-08-22T09:06:14.966Z', 'enrollmentStatus': 'Enrolled'}]\n",
      "{'confidence': 'High', 'result': 'Accept', 'phrase': 'i am going to make him an offer he cannot refuse'}\n"
     ]
    }
   ],
   "source": [
    "verify_headers = {\n",
    "    \"Ocp-Apim-Subscription-Key\":\"xxxx\",\n",
    "    \"Content-Type\":\"multipart/form-data\",\n",
    "    \"Accept\":\"application/json\"\n",
    "}\n",
    "\n",
    "profile_id = get_profile_id()\n",
    "audio_file_name = \"verify.wav\"\n",
    "create_audio_file(audio_file_name)\n",
    "with open(audio_file_name, \"rb\") as body:\n",
    "    # 上のコードのendpointをenrollからverifyに変更\n",
    "    endpoint = \"/spid/v1.0/verify?verificationProfileId={0}\".format(profile_id)\n",
    "    conn = http.client.HTTPSConnection(\"westus.api.cognitive.microsoft.com\")\n",
    "    conn.request(\"POST\", endpoint, body, verify_headers)\n",
    "    response = conn.getresponse()\n",
    "    jsonData = response.read()\n",
    "    data = json.loads(jsonData)\n",
    "    print(data)"
   ]
  },
  {
   "cell_type": "code",
   "execution_count": null,
   "metadata": {},
   "outputs": [],
   "source": []
  }
 ],
 "metadata": {
  "kernelspec": {
   "display_name": "Python 3",
   "language": "python",
   "name": "python3"
  },
  "language_info": {
   "codemirror_mode": {
    "name": "ipython",
    "version": 3
   },
   "file_extension": ".py",
   "mimetype": "text/x-python",
   "name": "python",
   "nbconvert_exporter": "python",
   "pygments_lexer": "ipython3",
   "version": "3.8.8"
  }
 },
 "nbformat": 4,
 "nbformat_minor": 2
}
