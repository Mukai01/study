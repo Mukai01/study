{
 "cells": [
  {
   "cell_type": "markdown",
   "id": "ebd06156",
   "metadata": {},
   "source": [
    "# 1.KeyPhrase"
   ]
  },
  {
   "cell_type": "code",
   "execution_count": 1,
   "id": "1fbbc4c7",
   "metadata": {
    "scrolled": true
   },
   "outputs": [
    {
     "name": "stdout",
     "output_type": "stream",
     "text": [
      "Requirement already satisfied: azure-cognitiveservices-language-textanalytics in c:\\users\\nakam\\anaconda3\\lib\\site-packages (0.2.1)\n",
      "Requirement already satisfied: msrest>=0.6.21 in c:\\users\\nakam\\anaconda3\\lib\\site-packages (from azure-cognitiveservices-language-textanalytics) (0.7.1)\n",
      "Requirement already satisfied: azure-common~=1.1 in c:\\users\\nakam\\anaconda3\\lib\\site-packages (from azure-cognitiveservices-language-textanalytics) (1.1.28)\n",
      "Requirement already satisfied: azure-mgmt-core<2.0.0,>=1.2.0 in c:\\users\\nakam\\anaconda3\\lib\\site-packages (from azure-cognitiveservices-language-textanalytics) (1.3.2)\n",
      "Requirement already satisfied: azure-core<2.0.0,>=1.24.0 in c:\\users\\nakam\\anaconda3\\lib\\site-packages (from azure-mgmt-core<2.0.0,>=1.2.0->azure-cognitiveservices-language-textanalytics) (1.25.1)\n",
      "Requirement already satisfied: six>=1.11.0 in c:\\users\\nakam\\anaconda3\\lib\\site-packages (from azure-core<2.0.0,>=1.24.0->azure-mgmt-core<2.0.0,>=1.2.0->azure-cognitiveservices-language-textanalytics) (1.15.0)\n",
      "Requirement already satisfied: typing-extensions>=4.0.1 in c:\\users\\nakam\\anaconda3\\lib\\site-packages (from azure-core<2.0.0,>=1.24.0->azure-mgmt-core<2.0.0,>=1.2.0->azure-cognitiveservices-language-textanalytics) (4.3.0)\n",
      "Requirement already satisfied: requests>=2.18.4 in c:\\users\\nakam\\anaconda3\\lib\\site-packages (from azure-core<2.0.0,>=1.24.0->azure-mgmt-core<2.0.0,>=1.2.0->azure-cognitiveservices-language-textanalytics) (2.28.1)\n",
      "Requirement already satisfied: requests-oauthlib>=0.5.0 in c:\\users\\nakam\\anaconda3\\lib\\site-packages (from msrest>=0.6.21->azure-cognitiveservices-language-textanalytics) (1.3.0)\n",
      "Requirement already satisfied: certifi>=2017.4.17 in c:\\users\\nakam\\anaconda3\\lib\\site-packages (from msrest>=0.6.21->azure-cognitiveservices-language-textanalytics) (2020.12.5)\n",
      "Requirement already satisfied: isodate>=0.6.0 in c:\\users\\nakam\\anaconda3\\lib\\site-packages (from msrest>=0.6.21->azure-cognitiveservices-language-textanalytics) (0.6.1)\n",
      "Requirement already satisfied: charset-normalizer<3,>=2 in c:\\users\\nakam\\anaconda3\\lib\\site-packages (from requests>=2.18.4->azure-core<2.0.0,>=1.24.0->azure-mgmt-core<2.0.0,>=1.2.0->azure-cognitiveservices-language-textanalytics) (2.1.0)\n",
      "Requirement already satisfied: urllib3<1.27,>=1.21.1 in c:\\users\\nakam\\anaconda3\\lib\\site-packages (from requests>=2.18.4->azure-core<2.0.0,>=1.24.0->azure-mgmt-core<2.0.0,>=1.2.0->azure-cognitiveservices-language-textanalytics) (1.26.4)\n",
      "Requirement already satisfied: idna<4,>=2.5 in c:\\users\\nakam\\anaconda3\\lib\\site-packages (from requests>=2.18.4->azure-core<2.0.0,>=1.24.0->azure-mgmt-core<2.0.0,>=1.2.0->azure-cognitiveservices-language-textanalytics) (2.10)\n",
      "Requirement already satisfied: oauthlib>=3.0.0 in c:\\users\\nakam\\anaconda3\\lib\\site-packages (from requests-oauthlib>=0.5.0->msrest>=0.6.21->azure-cognitiveservices-language-textanalytics) (3.1.1)\n",
      "Note: you may need to restart the kernel to use updated packages.\n"
     ]
    }
   ],
   "source": [
    "pip install azure-cognitiveservices-language-textanalytics"
   ]
  },
  {
   "cell_type": "code",
   "execution_count": 2,
   "id": "0cc09d49",
   "metadata": {},
   "outputs": [
    {
     "name": "stdout",
     "output_type": "stream",
     "text": [
      "Asking key-phrases on '猫は幸せ' (id: 1)\n",
      "Asking key-phrases on 'Fahrt nach Stuttgart und dann zum Hotel zu Fu.' (id: 2)\n",
      "Asking key-phrases on 'My cat might need to see a veterinarian.' (id: 3)\n",
      "Asking key-phrases on 'A mi me encanta el fútbol!' (id: 4)\n",
      "Document Id:  1\n",
      "\tKey Phrases:\n",
      "\t\t 幸せ\n",
      "Document Id:  2\n",
      "\tKey Phrases:\n",
      "\t\t Stuttgart\n",
      "\t\t Hotel\n",
      "\t\t Fahrt\n",
      "\t\t Fu\n",
      "Document Id:  3\n",
      "\tKey Phrases:\n",
      "\t\t cat\n",
      "\t\t veterinarian\n",
      "Document Id:  4\n",
      "\tKey Phrases:\n",
      "\t\t fútbol\n"
     ]
    }
   ],
   "source": [
    "from azure.cognitiveservices.language.textanalytics import TextAnalyticsClient\n",
    "from msrest.authentication import CognitiveServicesCredentials\n",
    "\n",
    "# variables to store subscription key and root URL for the Cognitive Service resource\n",
    "subscription_key = \"xxxx\"\n",
    "endpoint = \"https://textanalytics0701.cognitiveservices.azure.com/\"\n",
    "\n",
    "\n",
    "def authenticateclient():\n",
    "    credentials = CognitiveServicesCredentials(subscription_key)\n",
    "    text_analytics_client = TextAnalyticsClient(endpoint=endpoint, credentials=credentials)\n",
    "    return text_analytics_client\n",
    "\n",
    "\n",
    "def key_phrases():\n",
    "    client = authenticateclient()\n",
    "\n",
    "    try:\n",
    "        documents = [\n",
    "            {\"id\": \"1\", \"language\": \"ja\", \"text\": \"猫は幸せ\"},\n",
    "            {\"id\": \"2\", \"language\": \"de\",\n",
    "             \"text\": \"Fahrt nach Stuttgart und dann zum Hotel zu Fu.\"},\n",
    "            {\"id\": \"3\", \"language\": \"en\",\n",
    "             \"text\": \"My cat might need to see a veterinarian.\"},\n",
    "            {\"id\": \"4\", \"language\": \"es\", \"text\": \"A mi me encanta el fútbol!\"}\n",
    "        ]\n",
    "\n",
    "        for document in documents:\n",
    "            print(\n",
    "                \"Asking key-phrases on '{}' (id: {})\".format(document['text'], document['id']))\n",
    "\n",
    "        response = client.key_phrases(documents=documents)\n",
    "\n",
    "        for document in response.documents:\n",
    "            print(\"Document Id: \", document.id)\n",
    "            print(\"\\tKey Phrases:\")\n",
    "            for phrase in document.key_phrases:\n",
    "                print(\"\\t\\t\", phrase)\n",
    "\n",
    "    except Exception as err:\n",
    "        print(\"Encountered exception. {}\".format(err))\n",
    "\n",
    "\n",
    "key_phrases()"
   ]
  }
 ],
 "metadata": {
  "kernelspec": {
   "display_name": "Python 3",
   "language": "python",
   "name": "python3"
  },
  "language_info": {
   "codemirror_mode": {
    "name": "ipython",
    "version": 3
   },
   "file_extension": ".py",
   "mimetype": "text/x-python",
   "name": "python",
   "nbconvert_exporter": "python",
   "pygments_lexer": "ipython3",
   "version": "3.8.8"
  }
 },
 "nbformat": 4,
 "nbformat_minor": 5
}
