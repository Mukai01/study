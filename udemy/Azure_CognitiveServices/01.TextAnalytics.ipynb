{
 "cells": [
  {
   "cell_type": "markdown",
   "metadata": {
    "id": "uO76moNqaOEM"
   },
   "source": [
    "# Sentiment Analysis\n",
    "* https://westus2.dev.cognitive.microsoft.com/docs/services/TextAnalytics-v2-1/operations/56f30ceeeda5650db055a3c9"
   ]
  },
  {
   "cell_type": "code",
   "execution_count": 1,
   "metadata": {
    "id": "kvWYIvUrZN6A"
   },
   "outputs": [],
   "source": [
    "textAnalyticsEndpoint = 'textanalytics0701.cognitiveservices.azure.com' # https:// は不要\n",
    "textAnalyticsKey = 'xxxx'"
   ]
  },
  {
   "cell_type": "code",
   "execution_count": 2,
   "metadata": {
    "id": "jhUa1ATpZsmW"
   },
   "outputs": [],
   "source": [
    "import urllib.parse, http.client, urllib.request, urllib.error, json"
   ]
  },
  {
   "cell_type": "code",
   "execution_count": 3,
   "metadata": {
    "id": "tr6jI9uiaEEp"
   },
   "outputs": [],
   "source": [
    "headers = {\n",
    "    'Content-Type' : 'application/json',\n",
    "    'Ocp-Apim-Subscription-Key' : textAnalyticsKey,\n",
    "    'Accept' : 'application/json'\n",
    "}\n",
    "\n",
    "body = {\n",
    "    'documents' : [\n",
    "      {\n",
    "          'language' : 'en',\n",
    "          'id' : '1',\n",
    "          'text' : 'Wow! I am loving this course!'\n",
    "      },\n",
    "      {\n",
    "          'language' : 'en',\n",
    "          'id' : '2',\n",
    "          'text' : 'This course is not working for me right now.'\n",
    "      }         \n",
    "    ]\n",
    "}\n",
    "\n",
    "params = urllib.parse.urlencode({})"
   ]
  },
  {
   "cell_type": "code",
   "execution_count": 4,
   "metadata": {
    "colab": {
     "base_uri": "https://localhost:8080/"
    },
    "id": "JiZ6ZKTucFSn",
    "outputId": "cdc5891b-8c1c-4ca9-f433-8c319d2d8e3a"
   },
   "outputs": [
    {
     "name": "stdout",
     "output_type": "stream",
     "text": [
      "{\"documents\":[{\"id\":\"1\",\"score\":0.97856038808822632},{\"id\":\"2\",\"score\":0.004374384880065918}],\"errors\":[]}\n",
      "{'documents': [{'id': '1', 'score': 0.9785603880882263}, {'id': '2', 'score': 0.004374384880065918}], 'errors': []}\n",
      "Document 1 has a positive sentiment.\n",
      "Document 2 has a negative sentiment.\n"
     ]
    }
   ],
   "source": [
    "try:\n",
    "    conn = http.client.HTTPSConnection(textAnalyticsEndpoint)\n",
    "    conn.request('POST', '/text/analytics/v2.1/sentiment?%s' % params, str(body), headers)\n",
    "    response = conn.getresponse()\n",
    "    jsonData = response.read().decode('UTF-8') # jsonDataを作成\n",
    "    print(jsonData)\n",
    "    data = json.loads(jsonData) # Json文字列を辞書に変換\n",
    "    print(data)\n",
    "    for document in data['documents']:\n",
    "        sentiment = 'positive'\n",
    "        if document['score'] <= 0.5:\n",
    "            sentiment = 'negative'\n",
    "        print('Document ' + document['id'] + ' has a ' + sentiment + ' sentiment.')\n",
    "    conn.close()\n",
    "except Exception as ex:\n",
    "    print(ex)"
   ]
  },
  {
   "cell_type": "markdown",
   "metadata": {
    "id": "GYQEyuZormRY"
   },
   "source": [
    "# Key Phrases"
   ]
  },
  {
   "cell_type": "code",
   "execution_count": 5,
   "metadata": {
    "colab": {
     "base_uri": "https://localhost:8080/"
    },
    "id": "wtLmcK4_d7hu",
    "outputId": "946abb1e-8ae5-45f2-e53a-23feb3f459e2"
   },
   "outputs": [
    {
     "name": "stdout",
     "output_type": "stream",
     "text": [
      "{'documents': [{'id': '1', 'keyPhrases': ['Wow', 'course']}, {'id': '2', 'keyPhrases': ['course']}], 'errors': []}\n",
      "Document 1 has these key phrases:\n",
      " Wow\n",
      " course\n",
      "---------------------\n",
      "Document 2 has these key phrases:\n",
      " course\n",
      "---------------------\n"
     ]
    }
   ],
   "source": [
    "try:\n",
    "    conn = http.client.HTTPSConnection(textAnalyticsEndpoint)\n",
    "    conn.request('POST', '/text/analytics/v2.1/keyPhrases%s' % params, str(body), headers)\n",
    "    response = conn.getresponse()\n",
    "    jsonData = response.read().decode('UTF-8')\n",
    "    data = json.loads(jsonData)\n",
    "    print(data)\n",
    "    for document in data['documents']:\n",
    "        print('Document ' + document['id'] + ' has these key phrases:')\n",
    "        for phrase in document['keyPhrases']:\n",
    "            print(' ' + phrase)\n",
    "        print('---------------------')\n",
    "    conn.close()\n",
    "except Exception as ex:\n",
    "    print(ex)"
   ]
  },
  {
   "cell_type": "markdown",
   "metadata": {
    "id": "vTokvR-RuIxJ"
   },
   "source": [
    "# Removing Stopwords"
   ]
  },
  {
   "cell_type": "code",
   "execution_count": 6,
   "metadata": {
    "colab": {
     "base_uri": "https://localhost:8080/"
    },
    "id": "ZbNWjL4bs965",
    "outputId": "200f0c3d-a98e-4090-8f45-14d166bf022d",
    "scrolled": true
   },
   "outputs": [
    {
     "name": "stderr",
     "output_type": "stream",
     "text": [
      "  % Total    % Received % Xferd  Average Speed   Time    Time     Time  Current\n",
      "                                 Dload  Upload   Total   Spent    Left  Speed\n",
      "\n",
      "  0     0    0     0    0     0      0      0 --:--:-- --:--:-- --:--:--     0\n",
      " 35  3307   35  1178    0     0   1680      0  0:00:01 --:--:--  0:00:01  1680\n",
      "100  3307  100  3307    0     0   4717      0 --:--:-- --:--:-- --:--:--  4710\n"
     ]
    }
   ],
   "source": [
    "# curlはClient for URLの略\n",
    "# コマンドを実行した端末をクライアントとして、URLにデータを送信し、応答となるデータを受信する\n",
    "# -o でファイルに出力可能\n",
    "!curl http://www.sthda.com/sthda/RDoc/example-files/martin-luther-king-i-have-a-dream-speech.txt -o speech.txt"
   ]
  },
  {
   "cell_type": "code",
   "execution_count": 7,
   "metadata": {
    "colab": {
     "base_uri": "https://localhost:8080/"
    },
    "id": "mH0sbMP1uYn_",
    "outputId": "d307d308-21e9-445a-d5d4-a1c09d515612"
   },
   "outputs": [
    {
     "name": "stdout",
     "output_type": "stream",
     "text": [
      "\n",
      "And so even though we face the difficulties of today and tomorrow, I still have a dream. It is a dream deeply rooted in the American dream.\n",
      " \n",
      "I have a dream that one day this nation will rise up and live out the true meaning of its creed:\n",
      " \n",
      "We hold these truths to be self-evident, that all men are created equal.\n",
      " \n",
      "I have a dream that one day on the red hills of Georgia, the sons of former slaves and the sons of former slave owners will be able to sit down together at the table of brotherhood.\n",
      " \n",
      "I have a dream that one day even the state of Mississippi, a state sweltering with the heat of injustice, sweltering with the heat of oppression, will be transformed into an oasis of freedom and justice.\n",
      " \n",
      "I have a dream that my four little children will one day live in a nation where they will not be judged by the color of their skin but by the content of their character.\n",
      " \n",
      "I have a dream today!\n",
      " \n",
      "I have a dream that one day, down in Alabama, with its vicious racists, with its governor having his lips dripping with the words of interposition and nullification, one day right there in Alabama little black boys and black girls will be able to join hands with little white boys and white girls as sisters and brothers.\n",
      " \n",
      "I have a dream today!\n",
      " \n",
      "I have a dream that one day every valley shall be exalted, and every hill and mountain shall be made low, the rough places will be made plain, and the crooked places will be made straight; and the glory of the Lord shall be revealed and all flesh shall see it together.\n",
      " \n",
      "This is our hope, and this is the faith that I go back to the South with.\n",
      " \n",
      "With this faith, we will be able to hew out of the mountain of despair a stone of hope. With this faith, we will be able to transform the jangling discords of our nation into a beautiful symphony of brotherhood. With this faith, we will be able to work together, to pray together, to struggle together, to go to jail together, to stand up for freedom together, knowing that we will be free one day.\n",
      " \n",
      "And this will be the day, this will be the day when all of God s children will be able to sing with new meaning:\n",
      " \n",
      "My country  tis of thee, sweet land of liberty, of thee I sing.\n",
      "Land where my fathers died, land of the Pilgrim s pride,\n",
      "From every mountainside, let freedom ring!\n",
      "And if America is to be a great nation, this must become true.\n",
      "And so let freedom ring from the prodigious hilltops of New Hampshire.\n",
      "Let freedom ring from the mighty mountains of New York.\n",
      "Let freedom ring from the heightening Alleghenies of Pennsylvania.\n",
      "Let freedom ring from the snow-capped Rockies of Colorado.\n",
      "Let freedom ring from the curvaceous slopes of California.\n",
      " \n",
      "But not only that:\n",
      "Let freedom ring from Stone Mountain of Georgia.\n",
      "Let freedom ring from Lookout Mountain of Tennessee.\n",
      "Let freedom ring from every hill and molehill of Mississippi.\n",
      "From every mountainside, let freedom ring.\n",
      "And when this happens, when we allow freedom ring, when we let it ring from every village and every hamlet, from every state and every city, we will be able to speed up that day when all of God s children, black men and white men, Jews and Gentiles, Protestants and Catholics, will be able to join hands and sing in the words of the old Negro spiritual:\n",
      "Free at last! Free at last!\n",
      " \n",
      "Thank God Almighty, we are free at last!\n",
      "\n"
     ]
    }
   ],
   "source": [
    "document = open('speech.txt', 'r')\n",
    "\n",
    "mlk_speech = document.read()\n",
    "print(mlk_speech)"
   ]
  },
  {
   "cell_type": "markdown",
   "metadata": {
    "id": "8tIeoE7jvz0H"
   },
   "source": [
    "## Remove numbers"
   ]
  },
  {
   "cell_type": "code",
   "execution_count": 8,
   "metadata": {
    "id": "wKkTr9xAunjc"
   },
   "outputs": [],
   "source": [
    "mlk_speech = ''.join(c for c in mlk_speech if not c.isdigit()) # 1文字ずつ数字かどうか確認"
   ]
  },
  {
   "cell_type": "markdown",
   "metadata": {
    "id": "GKAiArHMwLf7"
   },
   "source": [
    "## Remove punctuation and make lower case"
   ]
  },
  {
   "cell_type": "code",
   "execution_count": 9,
   "metadata": {},
   "outputs": [
    {
     "name": "stdout",
     "output_type": "stream",
     "text": [
      "!\"#$%&'()*+,-./:;<=>?@[\\]^_`{|}~\n"
     ]
    }
   ],
   "source": [
    "from string import punctuation\n",
    "print(punctuation)"
   ]
  },
  {
   "cell_type": "code",
   "execution_count": 10,
   "metadata": {
    "colab": {
     "base_uri": "https://localhost:8080/"
    },
    "id": "px8ExrQgwKJp",
    "outputId": "9d660607-40ef-4423-ec8e-a5a10284190e"
   },
   "outputs": [
    {
     "name": "stdout",
     "output_type": "stream",
     "text": [
      "\n",
      "and so even though we face the difficulties of today and tomorrow i still have a dream it is a dream deeply rooted in the american dream\n",
      " \n",
      "i have a dream that one day this nation will rise up and live out the true meaning of its creed\n",
      " \n",
      "we hold these truths to be selfevident that all men are created equal\n",
      " \n",
      "i have a dream that one day on the red hills of georgia the sons of former slaves and the sons of former slave owners will be able to sit down together at the table of brotherhood\n",
      " \n",
      "i have a dream that one day even the state of mississippi a state sweltering with the heat of injustice sweltering with the heat of oppression will be transformed into an oasis of freedom and justice\n",
      " \n",
      "i have a dream that my four little children will one day live in a nation where they will not be judged by the color of their skin but by the content of their character\n",
      " \n",
      "i have a dream today\n",
      " \n",
      "i have a dream that one day down in alabama with its vicious racists with its governor having his lips dripping with the words of interposition and nullification one day right there in alabama little black boys and black girls will be able to join hands with little white boys and white girls as sisters and brothers\n",
      " \n",
      "i have a dream today\n",
      " \n",
      "i have a dream that one day every valley shall be exalted and every hill and mountain shall be made low the rough places will be made plain and the crooked places will be made straight and the glory of the lord shall be revealed and all flesh shall see it together\n",
      " \n",
      "this is our hope and this is the faith that i go back to the south with\n",
      " \n",
      "with this faith we will be able to hew out of the mountain of despair a stone of hope with this faith we will be able to transform the jangling discords of our nation into a beautiful symphony of brotherhood with this faith we will be able to work together to pray together to struggle together to go to jail together to stand up for freedom together knowing that we will be free one day\n",
      " \n",
      "and this will be the day this will be the day when all of god s children will be able to sing with new meaning\n",
      " \n",
      "my country  tis of thee sweet land of liberty of thee i sing\n",
      "land where my fathers died land of the pilgrim s pride\n",
      "from every mountainside let freedom ring\n",
      "and if america is to be a great nation this must become true\n",
      "and so let freedom ring from the prodigious hilltops of new hampshire\n",
      "let freedom ring from the mighty mountains of new york\n",
      "let freedom ring from the heightening alleghenies of pennsylvania\n",
      "let freedom ring from the snowcapped rockies of colorado\n",
      "let freedom ring from the curvaceous slopes of california\n",
      " \n",
      "but not only that\n",
      "let freedom ring from stone mountain of georgia\n",
      "let freedom ring from lookout mountain of tennessee\n",
      "let freedom ring from every hill and molehill of mississippi\n",
      "from every mountainside let freedom ring\n",
      "and when this happens when we allow freedom ring when we let it ring from every village and every hamlet from every state and every city we will be able to speed up that day when all of god s children black men and white men jews and gentiles protestants and catholics will be able to join hands and sing in the words of the old negro spiritual\n",
      "free at last free at last\n",
      " \n",
      "thank god almighty we are free at last\n",
      "\n"
     ]
    }
   ],
   "source": [
    "# 記号を削除し、大文字を小文字に変換\n",
    "mlk_speech = ''.join(c for c in mlk_speech if c not in punctuation).lower()\n",
    "print(mlk_speech)"
   ]
  },
  {
   "cell_type": "markdown",
   "metadata": {
    "id": "3JYi3r4Pwtvp"
   },
   "source": [
    "## Remove stopwords"
   ]
  },
  {
   "cell_type": "code",
   "execution_count": 11,
   "metadata": {},
   "outputs": [
    {
     "name": "stderr",
     "output_type": "stream",
     "text": [
      "[nltk_data] Downloading package stopwords to\n",
      "[nltk_data]     C:\\Users\\nakam\\AppData\\Roaming\\nltk_data...\n",
      "[nltk_data]   Package stopwords is already up-to-date!\n"
     ]
    },
    {
     "data": {
      "text/plain": [
       "['i', 'me', 'my', 'myself', 'we']"
      ]
     },
     "execution_count": 11,
     "metadata": {},
     "output_type": "execute_result"
    }
   ],
   "source": [
    "# stopwords : be, a, the 等\n",
    "import nltk\n",
    "nltk.download('stopwords')\n",
    "from nltk.corpus import stopwords\n",
    "\n",
    "stopwords.words('english')[:5]"
   ]
  },
  {
   "cell_type": "code",
   "execution_count": 12,
   "metadata": {
    "colab": {
     "base_uri": "https://localhost:8080/"
    },
    "id": "9F96ayWtwec2",
    "outputId": "fd41649c-1163-4cb3-a8f6-7a70e61df835"
   },
   "outputs": [
    {
     "name": "stdout",
     "output_type": "stream",
     "text": [
      "even though face difficulties today tomorrow still dream dream deeply rooted american dream dream one day nation rise live true meaning creed hold truths selfevident men created equal dream one day red hills georgia sons former slaves sons former slave owners able sit together table brotherhood dream one day even state mississippi state sweltering heat injustice sweltering heat oppression transformed oasis freedom justice dream four little children one day live nation judged color skin content character dream today dream one day alabama vicious racists governor lips dripping words interposition nullification one day right alabama little black boys black girls able join hands little white boys white girls sisters brothers dream today dream one day every valley shall exalted every hill mountain shall made low rough places made plain crooked places made straight glory lord shall revealed flesh shall see together hope faith go back south faith able hew mountain despair stone hope faith able transform jangling discords nation beautiful symphony brotherhood faith able work together pray together struggle together go jail together stand freedom together knowing free one day day day god children able sing new meaning country tis thee sweet land liberty thee sing land fathers died land pilgrim pride every mountainside let freedom ring america great nation must become true let freedom ring prodigious hilltops new hampshire let freedom ring mighty mountains new york let freedom ring heightening alleghenies pennsylvania let freedom ring snowcapped rockies colorado let freedom ring curvaceous slopes california let freedom ring stone mountain georgia let freedom ring lookout mountain tennessee let freedom ring every hill molehill mississippi every mountainside let freedom ring happens allow freedom ring let ring every village every hamlet every state every city able speed day god children black men white men jews gentiles protestants catholics able join hands sing words old negro spiritual free last free last thank god almighty free last\n"
     ]
    }
   ],
   "source": [
    "# splitでスペースで分割し、ストップワードと比較\n",
    "mlk_speech = ' '.join([word for word in mlk_speech.split() if word not in (stopwords.words('english'))])\n",
    "\n",
    "print(mlk_speech)"
   ]
  },
  {
   "cell_type": "markdown",
   "metadata": {
    "id": "JG3_lQjuyDdj"
   },
   "source": [
    "# Stemming Technique"
   ]
  },
  {
   "cell_type": "code",
   "execution_count": 13,
   "metadata": {
    "colab": {
     "base_uri": "https://localhost:8080/"
    },
    "id": "Ym6Vzl5txdmQ",
    "outputId": "4dc66429-cb49-45f7-85dc-263f945f7145"
   },
   "outputs": [
    {
     "name": "stdout",
     "output_type": "stream",
     "text": [
      "['even', 'though', 'face', 'difficulti', 'today', 'tomorrow', 'still', 'dream', 'dream', 'deepli', 'root', 'american', 'dream', 'dream', 'one', 'day', 'nation', 'rise', 'live', 'true', 'mean', 'creed', 'hold', 'truth', 'selfevid', 'men', 'creat', 'equal', 'dream', 'one', 'day', 'red', 'hill', 'georgia', 'son', 'former', 'slave', 'son', 'former', 'slave', 'owner', 'abl', 'sit', 'togeth', 'tabl', 'brotherhood', 'dream', 'one', 'day', 'even', 'state', 'mississippi', 'state', 'swelter', 'heat', 'injustic', 'swelter', 'heat', 'oppress', 'transform', 'oasi', 'freedom', 'justic', 'dream', 'four', 'littl', 'children', 'one', 'day', 'live', 'nation', 'judg', 'color', 'skin', 'content', 'charact', 'dream', 'today', 'dream', 'one', 'day', 'alabama', 'viciou', 'racist', 'governor', 'lip', 'drip', 'word', 'interposit', 'nullif', 'one', 'day', 'right', 'alabama', 'littl', 'black', 'boy', 'black', 'girl', 'abl', 'join', 'hand', 'littl', 'white', 'boy', 'white', 'girl', 'sister', 'brother', 'dream', 'today', 'dream', 'one', 'day', 'everi', 'valley', 'shall', 'exalt', 'everi', 'hill', 'mountain', 'shall', 'made', 'low', 'rough', 'place', 'made', 'plain', 'crook', 'place', 'made', 'straight', 'glori', 'lord', 'shall', 'reveal', 'flesh', 'shall', 'see', 'togeth', 'hope', 'faith', 'go', 'back', 'south', 'faith', 'abl', 'hew', 'mountain', 'despair', 'stone', 'hope', 'faith', 'abl', 'transform', 'jangl', 'discord', 'nation', 'beauti', 'symphoni', 'brotherhood', 'faith', 'abl', 'work', 'togeth', 'pray', 'togeth', 'struggl', 'togeth', 'go', 'jail', 'togeth', 'stand', 'freedom', 'togeth', 'know', 'free', 'one', 'day', 'day', 'day', 'god', 'children', 'abl', 'sing', 'new', 'mean', 'countri', 'ti', 'thee', 'sweet', 'land', 'liberti', 'thee', 'sing', 'land', 'father', 'die', 'land', 'pilgrim', 'pride', 'everi', 'mountainsid', 'let', 'freedom', 'ring', 'america', 'great', 'nation', 'must', 'becom', 'true', 'let', 'freedom', 'ring', 'prodigi', 'hilltop', 'new', 'hampshir', 'let', 'freedom', 'ring', 'mighti', 'mountain', 'new', 'york', 'let', 'freedom', 'ring', 'heighten', 'allegheni', 'pennsylvania', 'let', 'freedom', 'ring', 'snowcap', 'rocki', 'colorado', 'let', 'freedom', 'ring', 'curvac', 'slope', 'california', 'let', 'freedom', 'ring', 'stone', 'mountain', 'georgia', 'let', 'freedom', 'ring', 'lookout', 'mountain', 'tennesse', 'let', 'freedom', 'ring', 'everi', 'hill', 'molehil', 'mississippi', 'everi', 'mountainsid', 'let', 'freedom', 'ring', 'happen', 'allow', 'freedom', 'ring', 'let', 'ring', 'everi', 'villag', 'everi', 'hamlet', 'everi', 'state', 'everi', 'citi', 'abl', 'speed', 'day', 'god', 'children', 'black', 'men', 'white', 'men', 'jew', 'gentil', 'protest', 'cathol', 'abl', 'join', 'hand', 'sing', 'word', 'old', 'negro', 'spiritu', 'free', 'last', 'free', 'last', 'thank', 'god', 'almighti', 'free', 'last']\n",
      "            0\n",
      "even        2\n",
      "though      1\n",
      "face        1\n",
      "difficulti  1\n",
      "today       3\n",
      "...        ..\n",
      "negro       1\n",
      "spiritu     1\n",
      "last        3\n",
      "thank       1\n",
      "almighti    1\n",
      "\n",
      "[162 rows x 1 columns]\n"
     ]
    },
    {
     "name": "stderr",
     "output_type": "stream",
     "text": [
      "[nltk_data] Downloading package punkt to\n",
      "[nltk_data]     C:\\Users\\nakam\\AppData\\Roaming\\nltk_data...\n",
      "[nltk_data]   Package punkt is already up-to-date!\n"
     ]
    }
   ],
   "source": [
    "# free と freedomを同じ扱いをする : Stemming\n",
    "import nltk\n",
    "from nltk.stem.porter import PorterStemmer\n",
    "from nltk.probability import FreqDist\n",
    "import pandas as pd\n",
    "nltk.download('punkt')\n",
    "\n",
    "ps = PorterStemmer()\n",
    "words = nltk.tokenize.word_tokenize(mlk_speech) # 単語をリスト化\n",
    "stems = [ps.stem(word) for word in words]\n",
    "print(stems)\n",
    "\n",
    "fd = FreqDist(stems) # 辞書形式\n",
    "fd_df = pd.DataFrame(fd, index=[0]).T \n",
    "\n",
    "print(fd_df)"
   ]
  },
  {
   "cell_type": "code",
   "execution_count": 14,
   "metadata": {
    "colab": {
     "base_uri": "https://localhost:8080/",
     "height": 566
    },
    "id": "T-LfkZuuzNM8",
    "outputId": "5a2f3c6e-835f-473f-8639-aa10e7473af9",
    "scrolled": false
   },
   "outputs": [
    {
     "data": {
      "text/plain": [
       "<Figure size 1600x900 with 1 Axes>"
      ]
     },
     "metadata": {},
     "output_type": "display_data"
    }
   ],
   "source": [
    "import matplotlib.pyplot as plt\n",
    "\n",
    "counts = fd_df.sort_values(0, ascending=False)\n",
    "ar = plt.figure(figsize=(16,9))\n",
    "ax = ar.gca()\n",
    "counts[0][:60].plot(kind='bar', ax=ax)\n",
    "ax.set_title('Frequency Distribution')\n",
    "ax.set_ylabel('Freq of words')\n",
    "ax.set_xlabel('Words')\n",
    "plt.show()"
   ]
  },
  {
   "cell_type": "code",
   "execution_count": null,
   "metadata": {
    "id": "WAW4ZfZe0KCD"
   },
   "outputs": [],
   "source": []
  }
 ],
 "metadata": {
  "colab": {
   "collapsed_sections": [],
   "name": "TextAnalytics",
   "provenance": [],
   "toc_visible": true
  },
  "kernelspec": {
   "display_name": "Python 3",
   "language": "python",
   "name": "python3"
  },
  "language_info": {
   "codemirror_mode": {
    "name": "ipython",
    "version": 3
   },
   "file_extension": ".py",
   "mimetype": "text/x-python",
   "name": "python",
   "nbconvert_exporter": "python",
   "pygments_lexer": "ipython3",
   "version": "3.8.8"
  }
 },
 "nbformat": 4,
 "nbformat_minor": 1
}
