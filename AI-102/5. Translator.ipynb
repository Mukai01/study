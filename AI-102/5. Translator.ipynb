{
 "cells": [
  {
   "cell_type": "markdown",
   "id": "235dfcdf",
   "metadata": {},
   "source": [
    "# 1. Speech to Text(Translation)"
   ]
  },
  {
   "cell_type": "code",
   "execution_count": 2,
   "id": "2ec1b178",
   "metadata": {},
   "outputs": [
    {
     "name": "stdout",
     "output_type": "stream",
     "text": [
      "Say something...\n",
      "RECOGNIZED 'en-US': Nice image.\n",
      "TRANSLATED into fr: Belle image.\n",
      "TRANSLATED into id: Gambar yang bagus.\n"
     ]
    }
   ],
   "source": [
    "import azure.cognitiveservices.speech as speechsdk\n",
    "\n",
    "speech_key, service_region = \"xxxx\", \"eastus\"\n",
    "\n",
    "\n",
    "def translate_speech_to_speech():\n",
    "    # Speechリソースを作成して情報を記載する\n",
    "    translation_config = speechsdk.translation.SpeechTranslationConfig(subscription=speech_key, region=service_region)\n",
    "\n",
    "    speech_config = speechsdk.SpeechConfig(subscription=speech_key, region=service_region)\n",
    "\n",
    "    # Creates a speech synthesizer using the configured voice for audio output.\n",
    "    speech_synthesizer = speechsdk.SpeechSynthesizer(speech_config=speech_config)\n",
    "\n",
    "    # Sets source and target languages. In this example, the service will translate a US English spoken input,\n",
    "    # to French and Indonesian language spoken output Replace with the languages of your choice, from list found\n",
    "    # here: https://aka.ms/speech/sttt-languages\n",
    "    fromLanguage = 'en-US'\n",
    "    translation_config.speech_recognition_language = fromLanguage\n",
    "\n",
    "    # Add more than one language to the collection.\n",
    "    # using the add_target_language() method\n",
    "    translation_config.add_target_language(\"fr\")\n",
    "    translation_config.add_target_language(\"id-ID\")\n",
    "\n",
    "    # Creates a translation recognizer using and audio file as input.\n",
    "    recognizer = speechsdk.translation.TranslationRecognizer(translation_config=translation_config)\n",
    "\n",
    "    # Starts translation, and returns after a single utterance is recognized. The end of a\n",
    "    # single utterance is determined by listening for silence at the end or until a maximum of 15\n",
    "    # seconds of audio is processed. It returns the recognized text as well as the translation.\n",
    "    # Note: Since recognize_once() returns only a single utterance, it is suitable only for single\n",
    "    # shot recognition like command or query.\n",
    "    # For long-running multi-utterance recognition, use start_continuous_recognition() instead.\n",
    "    print(\"Say something...\")\n",
    "    result = recognizer.recognize_once()\n",
    "\n",
    "    # Check the result\n",
    "    if result.reason == speechsdk.ResultReason.TranslatedSpeech:\n",
    "        # Output the text for the recognized speech input\n",
    "        print(\"RECOGNIZED '{}': {}\".format(fromLanguage, result.text))\n",
    "\n",
    "        # Loop through the returned translation results\n",
    "        for key in result.translations:\n",
    "\n",
    "            # 翻訳を実行\n",
    "            print(\"TRANSLATED into {}: {}\".format(key, result.translations[key]))\n",
    "\n",
    "            # ここにtext to speechを入れると、再度speechに変換することができる\n",
    "            # 今回は省略\n",
    "\n",
    "    elif result.reason == speechsdk.ResultReason.RecognizedSpeech:\n",
    "        print(\"RECOGNIZED: {} (text could not be translated)\".format(result.text))\n",
    "    elif result.reason == speechsdk.ResultReason.NoMatch:\n",
    "        print(\"NOMATCH: Speech could not be recognized: {}\".format(result.no_match_details))\n",
    "    elif result.reason == speechsdk.ResultReason.Canceled:\n",
    "        print(\"CANCELED: Reason={}\".format(result.cancellation_details.reason))\n",
    "        if result.cancellation_details.reason == speechsdk.CancellationReason.Error:\n",
    "            print(\"CANCELED: ErrorDetails={}\".format(result.cancellation_details.error_details))\n",
    "\n",
    "\n",
    "translate_speech_to_speech()"
   ]
  },
  {
   "cell_type": "code",
   "execution_count": null,
   "id": "b09448ab",
   "metadata": {},
   "outputs": [],
   "source": []
  }
 ],
 "metadata": {
  "kernelspec": {
   "display_name": "Python 3",
   "language": "python",
   "name": "python3"
  },
  "language_info": {
   "codemirror_mode": {
    "name": "ipython",
    "version": 3
   },
   "file_extension": ".py",
   "mimetype": "text/x-python",
   "name": "python",
   "nbconvert_exporter": "python",
   "pygments_lexer": "ipython3",
   "version": "3.8.8"
  }
 },
 "nbformat": 4,
 "nbformat_minor": 5
}
