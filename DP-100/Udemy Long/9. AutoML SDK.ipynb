{
 "cells": [
  {
   "cell_type": "code",
   "execution_count": 1,
   "id": "b7e1064a",
   "metadata": {},
   "outputs": [
    {
     "name": "stdout",
     "output_type": "stream",
     "text": [
      "Accessing the workspace...\n"
     ]
    },
    {
     "name": "stderr",
     "output_type": "stream",
     "text": [
      "Warning: Falling back to use azure cli login credentials.\n",
      "If you run your code in unattended mode, i.e., where you can't give a user input, then we recommend to use ServicePrincipalAuthentication or MsiAuthentication.\n",
      "Please refer to aka.ms/aml-notebook-auth for different authentication mechanisms in azureml-sdk.\n"
     ]
    },
    {
     "name": "stdout",
     "output_type": "stream",
     "text": [
      "Accessing the dataset...\n",
      "Accessing the compute cluster...\n",
      "my-cluster-001 , compute cluster found. Using it...\n",
      "Creating the AutoML Configuration...\n",
      "Submitting the experiment....\n",
      "Submitting remote run.\n"
     ]
    },
    {
     "data": {
      "text/html": [
       "<table style=\"width:100%\"><tr><th>Experiment</th><th>Id</th><th>Type</th><th>Status</th><th>Details Page</th><th>Docs Page</th></tr><tr><td>azureml-sdk-exp-001</td><td>AutoML_f04761f1-d26c-4036-a234-30f51f932e1b</td><td>automl</td><td>NotStarted</td><td><a href=\"https://ml.azure.com/runs/AutoML_f04761f1-d26c-4036-a234-30f51f932e1b?wsid=/subscriptions/3467f739-a57b-4612-9de8-72a6616c01b3/resourcegroups/AzuremlSDKRG00/workspaces/Azureml-SDK-WS01&amp;tid=bcd8db96-8bb9-4f0d-af35-e471bf92c072\" target=\"_blank\" rel=\"noopener\">Link to Azure Machine Learning studio</a></td><td><a href=\"https://docs.microsoft.com/en-us/python/api/overview/azure/ml/intro?view=azure-ml-py\" target=\"_blank\" rel=\"noopener\">Link to Documentation</a></td></tr></table>"
      ],
      "text/plain": [
       "<IPython.core.display.HTML object>"
      ]
     },
     "metadata": {},
     "output_type": "display_data"
    },
    {
     "data": {
      "text/html": [
       "<table style=\"width:100%\"><tr><th>Experiment</th><th>Id</th><th>Type</th><th>Status</th><th>Details Page</th><th>Docs Page</th></tr><tr><td>azureml-sdk-exp-001</td><td>AutoML_f04761f1-d26c-4036-a234-30f51f932e1b</td><td>automl</td><td>NotStarted</td><td><a href=\"https://ml.azure.com/runs/AutoML_f04761f1-d26c-4036-a234-30f51f932e1b?wsid=/subscriptions/3467f739-a57b-4612-9de8-72a6616c01b3/resourcegroups/AzuremlSDKRG00/workspaces/Azureml-SDK-WS01&amp;tid=bcd8db96-8bb9-4f0d-af35-e471bf92c072\" target=\"_blank\" rel=\"noopener\">Link to Azure Machine Learning studio</a></td><td><a href=\"https://docs.microsoft.com/en-us/python/api/overview/azure/ml/intro?view=azure-ml-py\" target=\"_blank\" rel=\"noopener\">Link to Documentation</a></td></tr></table>"
      ],
      "text/plain": [
       "<IPython.core.display.HTML object>"
      ]
     },
     "metadata": {},
     "output_type": "display_data"
    },
    {
     "name": "stdout",
     "output_type": "stream",
     "text": [
      "\n",
      "Current status: FeaturesGeneration. Generating features for the dataset.\n",
      "Current status: DatasetFeaturization. Beginning to fit featurizers and featurize the dataset.\n",
      "Current status: DatasetFeaturizationCompleted. Completed fit featurizers and featurizing the dataset.\n",
      "Current status: ModelSelection. Beginning model selection.\n",
      "\n",
      "********************************************************************************************\n",
      "DATA GUARDRAILS: \n",
      "\n",
      "TYPE:         Class balancing detection\n",
      "STATUS:       PASSED\n",
      "DESCRIPTION:  Your inputs were analyzed, and all classes are balanced in your training data.\n",
      "              Learn more about imbalanced data: https://aka.ms/AutomatedMLImbalancedData\n",
      "\n",
      "********************************************************************************************\n",
      "\n",
      "TYPE:         Missing feature values imputation\n",
      "STATUS:       DONE\n",
      "DESCRIPTION:  If the missing values are expected, let the run complete. Otherwise cancel the current run and use a script to customize the handling of missing feature values that may be more appropriate based on the data type and business requirement.\n",
      "              Learn more about missing value imputation: https://aka.ms/AutomatedMLFeaturization\n",
      "DETAILS:      \n",
      "+------------------------------+------------------------------+------------------------------+\n",
      "|Column name                   |Missing value count           |Imputation type               |\n",
      "+==============================+==============================+==============================+\n",
      "|Credit Given                  |13                            |mean                          |\n",
      "|Gender                        |7                             |                              |\n",
      "|Education                     |9                             |                              |\n",
      "|Marital Status                |6                             |                              |\n",
      "+------------------------------+------------------------------+------------------------------+\n",
      "\n",
      "********************************************************************************************\n",
      "\n",
      "TYPE:         High cardinality feature detection\n",
      "STATUS:       DONE\n",
      "DESCRIPTION:  The training data had the following high cardinality features which were excluded for training. Please review your data source and possibly filter out these columns. If you want to include these features for training, you can override column purpose with appropriate column type.\n",
      "              Learn more about high cardinality feature handling: https://aka.ms/AutomatedMLFeaturization\n",
      "DETAILS:      High cardinality features refer to columns that contain a large percentage of unique values.\n",
      "+------------------------------+------------------------------+\n",
      "|Column name                   |Column Content Type           |\n",
      "+==============================+==============================+\n",
      "|ID                            |hashes                        |\n",
      "+------------------------------+------------------------------+\n",
      "\n",
      "********************************************************************************************\n",
      "\n",
      "********************************************************************************************\n",
      "ITER: The iteration being evaluated.\n",
      "PIPELINE: A summary description of the pipeline being evaluated.\n",
      "DURATION: Time taken for the current iteration.\n",
      "METRIC: The result of computing score on the fitted pipeline.\n",
      "BEST: The best observed score thus far.\n",
      "********************************************************************************************\n",
      "\n",
      " ITER   PIPELINE                                       DURATION            METRIC      BEST\n",
      "    0   MaxAbsScaler LightGBM                          0:00:21             0.0750    0.0750\n",
      "    1   MaxAbsScaler XGBoostClassifier                 0:00:17             0.1234    0.1234\n",
      "    2   StandardScalerWrapper ExtremeRandomTrees       0:00:22             0.1163    0.1234\n",
      "    3   MaxAbsScaler ExtremeRandomTrees                0:00:21             0.1821    0.1821\n",
      "    4   StandardScalerWrapper RandomForest             0:00:15             0.1920    0.1920\n",
      "    5   MaxAbsScaler ExtremeRandomTrees                0:00:20             0.2375    0.2375\n",
      "    6   SparseNormalizer ExtremeRandomTrees            0:00:20             0.0135    0.2375\n",
      "    7   SparseNormalizer XGBoostClassifier             0:00:20             0.0989    0.2375\n",
      "    8    VotingEnsemble                                0:00:45             0.2457    0.2457\n",
      "    9    StackEnsemble                                 0:00:39             0.2164    0.2457\n"
     ]
    },
    {
     "data": {
      "text/plain": [
       "{'runId': 'AutoML_f04761f1-d26c-4036-a234-30f51f932e1b',\n",
       " 'target': 'my-cluster-001',\n",
       " 'status': 'Completed',\n",
       " 'startTimeUtc': '2022-10-04T14:49:36.930827Z',\n",
       " 'endTimeUtc': '2022-10-04T14:54:01.546179Z',\n",
       " 'services': {},\n",
       " 'properties': {'num_iterations': '10',\n",
       "  'training_type': 'TrainFull',\n",
       "  'acquisition_function': 'EI',\n",
       "  'primary_metric': 'norm_macro_recall',\n",
       "  'train_split': '0.3',\n",
       "  'acquisition_parameter': '0',\n",
       "  'num_cross_validation': None,\n",
       "  'target': 'my-cluster-001',\n",
       "  'AMLSettingsJsonString': '{\"path\":null,\"name\":\"azureml-sdk-exp-001\",\"subscription_id\":\"3467f739-a57b-4612-9de8-72a6616c01b3\",\"resource_group\":\"AzuremlSDKRG00\",\"workspace_name\":\"Azureml-SDK-WS01\",\"region\":\"japaneast\",\"compute_target\":\"my-cluster-001\",\"spark_service\":null,\"azure_service\":\"remote\",\"many_models\":false,\"pipeline_fetch_max_batch_size\":1,\"enable_batch_run\":true,\"enable_parallel_run\":false,\"num_procs\":null,\"enable_run_restructure\":false,\"start_auxiliary_runs_before_parent_complete\":false,\"enable_code_generation\":true,\"iterations\":10,\"primary_metric\":\"norm_macro_recall\",\"task_type\":\"classification\",\"positive_label\":null,\"data_script\":null,\"test_size\":0.0,\"test_include_predictions_only\":false,\"validation_size\":0.3,\"n_cross_validations\":null,\"y_min\":null,\"y_max\":null,\"num_classes\":null,\"featurization\":\"auto\",\"_ignore_package_version_incompatibilities\":false,\"is_timeseries\":false,\"max_cores_per_iteration\":1,\"max_concurrent_iterations\":2,\"iteration_timeout_minutes\":null,\"mem_in_mb\":null,\"enforce_time_on_windows\":true,\"experiment_timeout_minutes\":15,\"experiment_exit_score\":null,\"partition_column_names\":null,\"whitelist_models\":null,\"blacklist_algos\":[\"TensorFlowLinearClassifier\",\"TensorFlowDNN\"],\"supported_models\":[\"ExtremeRandomTrees\",\"BernoulliNaiveBayes\",\"LinearSVM\",\"SGD\",\"MultinomialNaiveBayes\",\"SVM\",\"AveragedPerceptronClassifier\",\"TensorFlowLinearClassifier\",\"XGBoostClassifier\",\"KNN\",\"TabnetClassifier\",\"LightGBM\",\"RandomForest\",\"TensorFlowDNN\",\"GradientBoosting\",\"LogisticRegression\",\"DecisionTree\"],\"private_models\":[],\"auto_blacklist\":true,\"blacklist_samples_reached\":false,\"exclude_nan_labels\":true,\"verbosity\":20,\"_debug_log\":\"azureml_automl.log\",\"show_warnings\":false,\"model_explainability\":true,\"service_url\":null,\"sdk_url\":null,\"sdk_packages\":null,\"enable_onnx_compatible_models\":false,\"enable_split_onnx_featurizer_estimator_models\":false,\"vm_type\":\"STANDARD_D11_V2\",\"telemetry_verbosity\":20,\"send_telemetry\":true,\"enable_dnn\":false,\"scenario\":\"AutoML\",\"environment_label\":null,\"save_mlflow\":false,\"enable_categorical_indicators\":false,\"force_text_dnn\":false,\"enable_feature_sweeping\":true,\"enable_early_stopping\":true,\"early_stopping_n_iters\":10,\"arguments\":null,\"dataset_id\":\"b5d16d82-87fc-442e-95dd-2675facbc25c\",\"hyperdrive_config\":null,\"validation_dataset_id\":null,\"run_source\":null,\"metrics\":null,\"enable_metric_confidence\":false,\"enable_ensembling\":true,\"enable_stack_ensembling\":true,\"ensemble_iterations\":10,\"enable_tf\":false,\"enable_subsampling\":false,\"subsample_seed\":null,\"enable_nimbusml\":false,\"enable_streaming\":false,\"force_streaming\":false,\"track_child_runs\":true,\"n_best_runs\":1,\"allowed_private_models\":[],\"label_column_name\":\"Default Next Month\",\"weight_column_name\":null,\"cv_split_column_names\":null,\"enable_local_managed\":false,\"_local_managed_run_id\":null,\"cost_mode\":1,\"lag_length\":0,\"metric_operation\":\"maximize\",\"preprocess\":true}',\n",
       "  'DataPrepJsonString': '{\\\\\"training_data\\\\\": {\\\\\"datasetId\\\\\": \\\\\"b5d16d82-87fc-442e-95dd-2675facbc25c\\\\\"}, \\\\\"datasets\\\\\": 0}',\n",
       "  'EnableSubsampling': 'False',\n",
       "  'runTemplate': 'AutoML',\n",
       "  'azureml.runsource': 'automl',\n",
       "  'display_task_type': 'classification',\n",
       "  'dependencies_versions': '{\"azureml-train-restclients-hyperdrive\": \"1.46.0\", \"azureml-train-core\": \"1.46.0\", \"azureml-train-automl-client\": \"1.46.0\", \"azureml-telemetry\": \"1.46.0\", \"azureml-sdk\": \"1.46.0\", \"azureml-pipeline\": \"1.46.0\", \"azureml-pipeline-steps\": \"1.46.0\", \"azureml-pipeline-core\": \"1.46.0\", \"azureml-dataset-runtime\": \"1.46.0\", \"azureml-dataprep\": \"4.5.6\", \"azureml-dataprep-rslex\": \"2.11.3\", \"azureml-dataprep-native\": \"38.0.0\", \"azureml-core\": \"1.46.0\", \"azureml-automl-core\": \"1.46.0\"}',\n",
       "  '_aml_system_scenario_identification': 'Remote.Parent',\n",
       "  'ClientType': 'SDK',\n",
       "  'environment_cpu_name': 'AzureML-AutoML',\n",
       "  'environment_cpu_label': 'prod',\n",
       "  'environment_gpu_name': 'AzureML-AutoML-GPU',\n",
       "  'environment_gpu_label': 'prod',\n",
       "  'root_attribution': 'automl',\n",
       "  'attribution': 'AutoML',\n",
       "  'Orchestrator': 'AutoML',\n",
       "  'CancelUri': 'https://japaneast.api.azureml.ms/jasmine/v1.0/subscriptions/3467f739-a57b-4612-9de8-72a6616c01b3/resourceGroups/AzuremlSDKRG00/providers/Microsoft.MachineLearningServices/workspaces/Azureml-SDK-WS01/experimentids/0fb3eee5-77ac-459a-aefd-f6dbe2ad667e/cancel/AutoML_f04761f1-d26c-4036-a234-30f51f932e1b',\n",
       "  'azureml.git.repository_uri': 'https://github.com/Nakamukai1/Study-Records.git',\n",
       "  'mlflow.source.git.repoURL': 'https://github.com/Nakamukai1/Study-Records.git',\n",
       "  'azureml.git.branch': 'main',\n",
       "  'mlflow.source.git.branch': 'main',\n",
       "  'azureml.git.commit': '9cda39952d879c5b84494816ab944186176351fe',\n",
       "  'mlflow.source.git.commit': '9cda39952d879c5b84494816ab944186176351fe',\n",
       "  'azureml.git.dirty': 'True',\n",
       "  'ClientSdkVersion': '1.45.0',\n",
       "  'snapshotId': '00000000-0000-0000-0000-000000000000',\n",
       "  'SetupRunId': 'AutoML_f04761f1-d26c-4036-a234-30f51f932e1b_setup',\n",
       "  'SetupRunContainerId': 'dcid.AutoML_f04761f1-d26c-4036-a234-30f51f932e1b_setup',\n",
       "  'FeaturizationRunJsonPath': 'featurizer_container.json',\n",
       "  'FeaturizationRunId': 'AutoML_f04761f1-d26c-4036-a234-30f51f932e1b_featurize',\n",
       "  'ProblemInfoJsonString': '{\"dataset_num_categorical\": 0, \"is_sparse\": true, \"subsampling\": false, \"has_extra_col\": true, \"dataset_classes\": 2, \"dataset_features\": 80, \"dataset_samples\": 1120, \"single_frequency_class_detected\": false}',\n",
       "  'ModelExplainRunId': 'AutoML_f04761f1-d26c-4036-a234-30f51f932e1b_ModelExplain'},\n",
       " 'inputDatasets': [{'dataset': {'id': 'b5d16d82-87fc-442e-95dd-2675facbc25c'}, 'consumptionDetails': {'type': 'RunInput', 'inputName': 'training_data', 'mechanism': 'Direct'}}],\n",
       " 'outputDatasets': [],\n",
       " 'logFiles': {},\n",
       " 'submittedBy': '保徳 中向'}"
      ]
     },
     "execution_count": 1,
     "metadata": {},
     "output_type": "execute_result"
    }
   ],
   "source": [
    "from azureml.core import Workspace\n",
    " \n",
    "print(\"Accessing the workspace...\")\n",
    "ws = Workspace.from_config(path=\"./config\")\n",
    "\n",
    "print(\"Accessing the dataset...\")\n",
    "input_ds = ws.datasets.get('default')\n",
    "\n",
    "\n",
    "# --------------------------------------------------------------------\n",
    "# Create the compute Cluster \n",
    "# --------------------------------------------------------------------\n",
    "cluster_name = \"my-cluster-001\"\n",
    "\n",
    "from azureml.core.compute import AmlCompute\n",
    "\n",
    "print(\"Accessing the compute cluster...\")\n",
    "\n",
    "# cluster が存在している場合はそれを使う\n",
    "if cluster_name not in ws.compute_targets:\n",
    "    print(\"Creating the compute cluster with name: \", cluster_name)\n",
    "    compute_config = AmlCompute.provisioning_configuration(\n",
    "                                     vm_size=\"STANDARD_D11_V2\",\n",
    "                                     max_nodes=2)\n",
    "\n",
    "    cluster = AmlCompute.create(ws, cluster_name, compute_config)\n",
    "    cluster.wait_for_completion()\n",
    "else:\n",
    "    cluster = ws.compute_targets[cluster_name]\n",
    "    print(cluster_name, \", compute cluster found. Using it...\")\n",
    "\n",
    "\n",
    "\n",
    "# --------------------------------------------------------------------\n",
    "# Configure the AutoML run\n",
    "# --------------------------------------------------------------------\n",
    "\n",
    "from azureml.train.automl import AutoMLConfig\n",
    "\n",
    "print(\"Creating the AutoML Configuration...\")\n",
    "\n",
    "# norm_macro_recallについては動画参照\n",
    "automl_config = AutoMLConfig(task='classification',\n",
    "                             compute_target=cluster,\n",
    "                             training_data=input_ds,\n",
    "                             validation_size=0.3,\n",
    "                             label_column_name='Default Next Month',\n",
    "                             primary_metric='norm_macro_recall',\n",
    "                             iterations=10,\n",
    "                             max_concurrent_iterations=2, # nodeのmax数まで指定可能\n",
    "                             experiment_timeout_hours=0.25,\n",
    "                             featurization='auto')\n",
    "\n",
    "# --------------------------------------------------------------------\n",
    "# Create and submit the experiment\n",
    "# --------------------------------------------------------------------\n",
    "\n",
    "from azureml.core.experiment import Experiment\n",
    "\n",
    "new_exp = Experiment(ws, 'azureml-sdk-exp-001')\n",
    "\n",
    "print(\"Submitting the experiment....\")\n",
    "\n",
    "new_run = new_exp.submit(automl_config)\n",
    "new_run.wait_for_completion(show_output=True)"
   ]
  },
  {
   "cell_type": "code",
   "execution_count": 2,
   "id": "6f4f52c8",
   "metadata": {},
   "outputs": [
    {
     "data": {
      "text/html": [
       "<table style=\"width:100%\"><tr><th>Experiment</th><th>Id</th><th>Type</th><th>Status</th><th>Details Page</th><th>Docs Page</th></tr><tr><td>azureml-sdk-exp-001</td><td>AutoML_f04761f1-d26c-4036-a234-30f51f932e1b_6</td><td></td><td>Completed</td><td><a href=\"https://ml.azure.com/runs/AutoML_f04761f1-d26c-4036-a234-30f51f932e1b_6?wsid=/subscriptions/3467f739-a57b-4612-9de8-72a6616c01b3/resourcegroups/AzuremlSDKRG00/workspaces/Azureml-SDK-WS01&amp;tid=bcd8db96-8bb9-4f0d-af35-e471bf92c072\" target=\"_blank\" rel=\"noopener\">Link to Azure Machine Learning studio</a></td><td><a href=\"https://docs.microsoft.com/en-us/python/api/azureml-core/azureml.core.run.Run?view=azure-ml-py\" target=\"_blank\" rel=\"noopener\">Link to Documentation</a></td></tr></table>"
      ],
      "text/plain": [
       "Run(Experiment: azureml-sdk-exp-001,\n",
       "Id: AutoML_f04761f1-d26c-4036-a234-30f51f932e1b_6,\n",
       "Type: None,\n",
       "Status: Completed)"
      ]
     },
     "execution_count": 2,
     "metadata": {},
     "output_type": "execute_result"
    }
   ],
   "source": [
    "# Retrieve the best model\n",
    "# accuracyがbestのモデルを取得可能\n",
    "new_run.get_best_child(metric='accuracy')"
   ]
  },
  {
   "cell_type": "code",
   "execution_count": 3,
   "id": "d6750224",
   "metadata": {},
   "outputs": [
    {
     "name": "stdout",
     "output_type": "stream",
     "text": [
      "\n",
      "Run ID :  AutoML_f04761f1-d26c-4036-a234-30f51f932e1b_8\n",
      "{'accuracy': 0.7125}\n",
      "{'norm_macro_recall': 0.24568661083644439}\n",
      "\n",
      "Run ID :  AutoML_f04761f1-d26c-4036-a234-30f51f932e1b_9\n",
      "{'accuracy': 0.5895833333333333}\n",
      "{'norm_macro_recall': 0.2163757441226919}\n",
      "\n",
      "Run ID :  AutoML_f04761f1-d26c-4036-a234-30f51f932e1b_3\n",
      "{'accuracy': 0.6208333333333333}\n",
      "{'norm_macro_recall': 0.1821208757945718}\n",
      "\n",
      "Run ID :  AutoML_f04761f1-d26c-4036-a234-30f51f932e1b_7\n",
      "{'accuracy': 0.7666666666666667}\n",
      "{'norm_macro_recall': 0.09888003228735753}\n",
      "\n",
      "Run ID :  AutoML_f04761f1-d26c-4036-a234-30f51f932e1b_2\n",
      "{'accuracy': 0.775}\n",
      "{'norm_macro_recall': 0.11633538492583995}\n",
      "\n",
      "Run ID :  AutoML_f04761f1-d26c-4036-a234-30f51f932e1b_6\n",
      "{'accuracy': 0.7791666666666667}\n",
      "{'norm_macro_recall': 0.01352033094541416}\n",
      "\n",
      "Run ID :  AutoML_f04761f1-d26c-4036-a234-30f51f932e1b_1\n",
      "{'accuracy': 0.7541666666666667}\n",
      "{'norm_macro_recall': 0.12339824437493685}\n",
      "\n",
      "Run ID :  AutoML_f04761f1-d26c-4036-a234-30f51f932e1b_5\n",
      "{'accuracy': 0.7166666666666667}\n",
      "{'norm_macro_recall': 0.23751387347391795}\n",
      "\n",
      "Run ID :  AutoML_f04761f1-d26c-4036-a234-30f51f932e1b_0\n",
      "{'accuracy': 0.7375}\n",
      "{'norm_macro_recall': 0.07496720815255786}\n",
      "\n",
      "Run ID :  AutoML_f04761f1-d26c-4036-a234-30f51f932e1b_4\n",
      "{'accuracy': 0.5916666666666667}\n",
      "{'norm_macro_recall': 0.19200887902330743}\n",
      "\n",
      "Run ID :  AutoML_f04761f1-d26c-4036-a234-30f51f932e1b_worker_1\n",
      "{}\n",
      "{}\n",
      "\n",
      "Run ID :  AutoML_f04761f1-d26c-4036-a234-30f51f932e1b_worker_0\n",
      "{}\n",
      "{}\n",
      "\n",
      "Run ID :  AutoML_f04761f1-d26c-4036-a234-30f51f932e1b_featurize\n",
      "{}\n",
      "{}\n",
      "\n",
      "Run ID :  AutoML_f04761f1-d26c-4036-a234-30f51f932e1b_setup\n",
      "{}\n",
      "{}\n"
     ]
    }
   ],
   "source": [
    "# Get the metrics for all the runs\n",
    "for run in new_run.get_children():\n",
    "    print(\"\")\n",
    "    print(\"Run ID : \", run.id)\n",
    "    print(run.get_metrics('accuracy'))\n",
    "    print(run.get_metrics('norm_macro_recall'))"
   ]
  },
  {
   "cell_type": "code",
   "execution_count": null,
   "id": "1140c34e",
   "metadata": {},
   "outputs": [],
   "source": []
  }
 ],
 "metadata": {
  "kernelspec": {
   "display_name": "Python 3",
   "language": "python",
   "name": "python3"
  },
  "language_info": {
   "codemirror_mode": {
    "name": "ipython",
    "version": 3
   },
   "file_extension": ".py",
   "mimetype": "text/x-python",
   "name": "python",
   "nbconvert_exporter": "python",
   "pygments_lexer": "ipython3",
   "version": "3.8.8"
  }
 },
 "nbformat": 4,
 "nbformat_minor": 5
}
