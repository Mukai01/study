{
 "cells": [
  {
   "cell_type": "markdown",
   "id": "8523b546",
   "metadata": {},
   "source": [
    "# LUIS"
   ]
  },
  {
   "cell_type": "markdown",
   "id": "a59f7fa5",
   "metadata": {},
   "source": [
    "* Language Understanding でリソース作成 ⇒ クイックスタートからLUISPortalに移動\n",
    "* New app\n",
    "    * Name : Home\n",
    "    * Culture : English\n",
    "    * Description : Home automation with Azure ML\n",
    "* Prediction Resourceを選択\n",
    "\n",
    "* Intents ⇒ Name : Openshades\n",
    "    * Open the shadesという文章を登録 ⇒ shadesをクリックし、shadesというエンティティとして登録する\n",
    "* Intents ⇒ Name  :Closeshades\n",
    "    * Close the shadesという文章を登録 ⇒ shadesをクリックし、shadesというエンティティとして登録する\n",
    "\n",
    "* Train ⇒ Test\n",
    "    * Shut the shade と書くとOpenshadesに間違えて分類される\n",
    "        * Inspectをクリックし、Assign new intentから訂正する\n",
    "        * そうするとIntentに追加されるので、shadesをクリックしエンティティとして登録する\n",
    "\n",
    "* Train ⇒ Test ⇒ Publish ⇒ Production Slotを選択"
   ]
  },
  {
   "cell_type": "code",
   "execution_count": 1,
   "id": "b44deeb5",
   "metadata": {},
   "outputs": [],
   "source": [
    "# LUIS Portalの Example Query からコピーし、最後のYOUR_QUERY_HEREを消す\n",
    "# この中にはsubscription_keyが含まれている\n",
    "# https://lpaluis-0625.cognitiveservices.azure.com/luis/prediction/v3.0/apps/xxxx/slots/production/predict?verbose=true&show-all-intents=true&log=true&subscription-key=xxxx=YOUR_QUERY_HERE\n",
    "endpoint ='https://lpaluis-0701.cognitiveservices.azure.com/luis/prediction/v3.0/apps/xxxx/slots/production/predict?verbose=true&show-all-intents=true&log=true&subscription-key=xxxx&query='"
   ]
  },
  {
   "cell_type": "code",
   "execution_count": 2,
   "id": "10ca419c",
   "metadata": {},
   "outputs": [],
   "source": [
    "import json, requests"
   ]
  },
  {
   "cell_type": "code",
   "execution_count": 3,
   "id": "8ed93e96",
   "metadata": {},
   "outputs": [
    {
     "name": "stdout",
     "output_type": "stream",
     "text": [
      "Please write the command: good morning\n",
      "{'query': 'good morning', 'prediction': {'topIntent': 'Openshades', 'intents': {'Openshades': {'score': 0.96247023}, 'Closeshades': {'score': 0.031965524}, 'None': {'score': 0.018382862}}, 'entities': {}}}\n"
     ]
    }
   ],
   "source": [
    "# queryを入力させる\n",
    "query = input('Please write the command: ')\n",
    "\n",
    "# 空白を+に変換\n",
    "request_url = endpoint + query.replace(' ', '+')\n",
    "\n",
    "response = requests.get(request_url)\n",
    "jsonData = response.content.decode('UTF-8')\n",
    "data = json.loads(jsonData) # 辞書形式に変換\n",
    "\n",
    "print(data)"
   ]
  },
  {
   "cell_type": "code",
   "execution_count": 4,
   "id": "cceb4555",
   "metadata": {},
   "outputs": [
    {
     "name": "stdout",
     "output_type": "stream",
     "text": [
      "Openshades\n"
     ]
    }
   ],
   "source": [
    "intent = data['prediction']['topIntent']\n",
    "print(intent)"
   ]
  },
  {
   "cell_type": "code",
   "execution_count": 5,
   "id": "eaf3fcec",
   "metadata": {},
   "outputs": [
    {
     "name": "stdout",
     "output_type": "stream",
     "text": [
      "Opening the shades...\n"
     ]
    }
   ],
   "source": [
    "if(intent == 'Openshades'):\n",
    "    print('Opening the shades...')\n",
    "elif(intent == 'Closeshades'):\n",
    "    print('Closing the shades...')\n",
    "else:\n",
    "    print(\"Sorry, I didn't catch that\")"
   ]
  },
  {
   "cell_type": "markdown",
   "id": "f2a45f51",
   "metadata": {},
   "source": [
    "* Good Morning と入力し、低い確率が出ることを確認\n",
    "* Luis PortalのBuild ⇒ Improve app performanceを見るとその文章が確認できる\n",
    "* Open the shadesとIntentを変更し登録すると、Intentに登録される\n",
    "* Train ⇒ Test ⇒ Publish ⇒ Production Slotとすると、endpointは変更なく、モデルが更新される"
   ]
  }
 ],
 "metadata": {
  "kernelspec": {
   "display_name": "Python 3",
   "language": "python",
   "name": "python3"
  },
  "language_info": {
   "codemirror_mode": {
    "name": "ipython",
    "version": 3
   },
   "file_extension": ".py",
   "mimetype": "text/x-python",
   "name": "python",
   "nbconvert_exporter": "python",
   "pygments_lexer": "ipython3",
   "version": "3.8.8"
  }
 },
 "nbformat": 4,
 "nbformat_minor": 5
}
