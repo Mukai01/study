{
 "cells": [
  {
   "cell_type": "markdown",
   "id": "36df0d40",
   "metadata": {},
   "source": [
    "# 学習したモデルを保存する"
   ]
  },
  {
   "cell_type": "code",
   "execution_count": 1,
   "id": "95a6da10",
   "metadata": {},
   "outputs": [
    {
     "data": {
      "text/plain": [
       "['./outputs/scaler.pkl']"
      ]
     },
     "execution_count": 1,
     "metadata": {},
     "output_type": "execute_result"
    }
   ],
   "source": [
    "# Create the serialized object using joblib dump\n",
    "import pandas as pd\n",
    "\n",
    "df = pd.read_csv('./data/adultincome trunc.csv')\n",
    "data1 = df.copy()\n",
    "\n",
    "# MinMaxScaler\n",
    "from sklearn.preprocessing import MinMaxScaler\n",
    "scaler = MinMaxScaler()\n",
    "\n",
    "\n",
    "# Get the numeric columns from data1\n",
    "columns = data1.select_dtypes(include='number').columns\n",
    "\n",
    "# Fit the data to the scaler object\n",
    "scaler_fitted = scaler.fit(data1[columns])\n",
    "\n",
    "# Transform the data using the fitted scaler object\n",
    "data1[columns] = scaler_fitted.transform(data1[columns])\n",
    "\n",
    "# joblibでSerialiseを行う\n",
    "import joblib\n",
    "obj_file = './outputs/scaler.pkl'\n",
    "joblib.dump(value=scaler_fitted, filename=obj_file)"
   ]
  },
  {
   "cell_type": "code",
   "execution_count": 7,
   "id": "9057af5e",
   "metadata": {},
   "outputs": [
    {
     "data": {
      "text/html": [
       "<div>\n",
       "<style scoped>\n",
       "    .dataframe tbody tr th:only-of-type {\n",
       "        vertical-align: middle;\n",
       "    }\n",
       "\n",
       "    .dataframe tbody tr th {\n",
       "        vertical-align: top;\n",
       "    }\n",
       "\n",
       "    .dataframe thead th {\n",
       "        text-align: right;\n",
       "    }\n",
       "</style>\n",
       "<table border=\"1\" class=\"dataframe\">\n",
       "  <thead>\n",
       "    <tr style=\"text-align: right;\">\n",
       "      <th></th>\n",
       "      <th>age</th>\n",
       "      <th>wc</th>\n",
       "      <th>education</th>\n",
       "      <th>marital status</th>\n",
       "      <th>race</th>\n",
       "      <th>gender</th>\n",
       "      <th>hours per week</th>\n",
       "      <th>IncomeClass</th>\n",
       "    </tr>\n",
       "  </thead>\n",
       "  <tbody>\n",
       "    <tr>\n",
       "      <th>0</th>\n",
       "      <td>0.277778</td>\n",
       "      <td>Private</td>\n",
       "      <td>HS-grad</td>\n",
       "      <td>Divorced</td>\n",
       "      <td>White</td>\n",
       "      <td>Male</td>\n",
       "      <td>0.385417</td>\n",
       "      <td>&lt;=50K</td>\n",
       "    </tr>\n",
       "    <tr>\n",
       "      <th>1</th>\n",
       "      <td>0.138889</td>\n",
       "      <td>Private</td>\n",
       "      <td>Bachelors</td>\n",
       "      <td>Married</td>\n",
       "      <td>Black</td>\n",
       "      <td>Female</td>\n",
       "      <td>0.385417</td>\n",
       "      <td>&lt;=50K</td>\n",
       "    </tr>\n",
       "    <tr>\n",
       "      <th>2</th>\n",
       "      <td>0.263889</td>\n",
       "      <td>Private</td>\n",
       "      <td>Masters</td>\n",
       "      <td>Married</td>\n",
       "      <td>White</td>\n",
       "      <td>Female</td>\n",
       "      <td>0.385417</td>\n",
       "      <td>&lt;=50K</td>\n",
       "    </tr>\n",
       "    <tr>\n",
       "      <th>3</th>\n",
       "      <td>0.180556</td>\n",
       "      <td>Private</td>\n",
       "      <td>Masters</td>\n",
       "      <td>Never-married</td>\n",
       "      <td>White</td>\n",
       "      <td>Female</td>\n",
       "      <td>0.489583</td>\n",
       "      <td>&gt;50K</td>\n",
       "    </tr>\n",
       "    <tr>\n",
       "      <th>4</th>\n",
       "      <td>0.333333</td>\n",
       "      <td>Private</td>\n",
       "      <td>Bachelors</td>\n",
       "      <td>Married</td>\n",
       "      <td>White</td>\n",
       "      <td>Male</td>\n",
       "      <td>0.385417</td>\n",
       "      <td>&gt;50K</td>\n",
       "    </tr>\n",
       "  </tbody>\n",
       "</table>\n",
       "</div>"
      ],
      "text/plain": [
       "        age        wc   education  marital status    race   gender  \\\n",
       "0  0.277778   Private     HS-grad        Divorced   White     Male   \n",
       "1  0.138889   Private   Bachelors         Married   Black   Female   \n",
       "2  0.263889   Private     Masters         Married   White   Female   \n",
       "3  0.180556   Private     Masters   Never-married   White   Female   \n",
       "4  0.333333   Private   Bachelors         Married   White     Male   \n",
       "\n",
       "   hours per week IncomeClass  \n",
       "0        0.385417       <=50K  \n",
       "1        0.385417       <=50K  \n",
       "2        0.385417       <=50K  \n",
       "3        0.489583        >50K  \n",
       "4        0.385417        >50K  "
      ]
     },
     "execution_count": 7,
     "metadata": {},
     "output_type": "execute_result"
    }
   ],
   "source": [
    "# deserialize\n",
    "data2 = pd.read_csv('./data/adultincome trunc.csv')\n",
    "\n",
    "import joblib\n",
    "obj_file = './outputs/scaler.pkl'\n",
    "sc = joblib.load(obj_file)\n",
    "\n",
    "data2[columns] = sc.transform(data2[columns])\n",
    "data2.head()"
   ]
  },
  {
   "cell_type": "code",
   "execution_count": 8,
   "id": "fe66d788",
   "metadata": {
    "scrolled": true
   },
   "outputs": [
    {
     "data": {
      "text/html": [
       "<div>\n",
       "<style scoped>\n",
       "    .dataframe tbody tr th:only-of-type {\n",
       "        vertical-align: middle;\n",
       "    }\n",
       "\n",
       "    .dataframe tbody tr th {\n",
       "        vertical-align: top;\n",
       "    }\n",
       "\n",
       "    .dataframe thead th {\n",
       "        text-align: right;\n",
       "    }\n",
       "</style>\n",
       "<table border=\"1\" class=\"dataframe\">\n",
       "  <thead>\n",
       "    <tr style=\"text-align: right;\">\n",
       "      <th></th>\n",
       "      <th>age</th>\n",
       "      <th>wc</th>\n",
       "      <th>education</th>\n",
       "      <th>marital status</th>\n",
       "      <th>race</th>\n",
       "      <th>gender</th>\n",
       "      <th>hours per week</th>\n",
       "      <th>IncomeClass</th>\n",
       "    </tr>\n",
       "  </thead>\n",
       "  <tbody>\n",
       "    <tr>\n",
       "      <th>0</th>\n",
       "      <td>0.277778</td>\n",
       "      <td>Private</td>\n",
       "      <td>HS-grad</td>\n",
       "      <td>Divorced</td>\n",
       "      <td>White</td>\n",
       "      <td>Male</td>\n",
       "      <td>0.385417</td>\n",
       "      <td>&lt;=50K</td>\n",
       "    </tr>\n",
       "    <tr>\n",
       "      <th>1</th>\n",
       "      <td>0.138889</td>\n",
       "      <td>Private</td>\n",
       "      <td>Bachelors</td>\n",
       "      <td>Married</td>\n",
       "      <td>Black</td>\n",
       "      <td>Female</td>\n",
       "      <td>0.385417</td>\n",
       "      <td>&lt;=50K</td>\n",
       "    </tr>\n",
       "    <tr>\n",
       "      <th>2</th>\n",
       "      <td>0.263889</td>\n",
       "      <td>Private</td>\n",
       "      <td>Masters</td>\n",
       "      <td>Married</td>\n",
       "      <td>White</td>\n",
       "      <td>Female</td>\n",
       "      <td>0.385417</td>\n",
       "      <td>&lt;=50K</td>\n",
       "    </tr>\n",
       "    <tr>\n",
       "      <th>3</th>\n",
       "      <td>0.180556</td>\n",
       "      <td>Private</td>\n",
       "      <td>Masters</td>\n",
       "      <td>Never-married</td>\n",
       "      <td>White</td>\n",
       "      <td>Female</td>\n",
       "      <td>0.489583</td>\n",
       "      <td>&gt;50K</td>\n",
       "    </tr>\n",
       "    <tr>\n",
       "      <th>4</th>\n",
       "      <td>0.333333</td>\n",
       "      <td>Private</td>\n",
       "      <td>Bachelors</td>\n",
       "      <td>Married</td>\n",
       "      <td>White</td>\n",
       "      <td>Male</td>\n",
       "      <td>0.385417</td>\n",
       "      <td>&gt;50K</td>\n",
       "    </tr>\n",
       "  </tbody>\n",
       "</table>\n",
       "</div>"
      ],
      "text/plain": [
       "        age        wc   education  marital status    race   gender  \\\n",
       "0  0.277778   Private     HS-grad        Divorced   White     Male   \n",
       "1  0.138889   Private   Bachelors         Married   Black   Female   \n",
       "2  0.263889   Private     Masters         Married   White   Female   \n",
       "3  0.180556   Private     Masters   Never-married   White   Female   \n",
       "4  0.333333   Private   Bachelors         Married   White     Male   \n",
       "\n",
       "   hours per week IncomeClass  \n",
       "0        0.385417       <=50K  \n",
       "1        0.385417       <=50K  \n",
       "2        0.385417       <=50K  \n",
       "3        0.489583        >50K  \n",
       "4        0.385417        >50K  "
      ]
     },
     "execution_count": 8,
     "metadata": {},
     "output_type": "execute_result"
    }
   ],
   "source": [
    "# data2と1が同じ⇒モデルを保存できていたことが分かる\n",
    "data1.head()"
   ]
  },
  {
   "cell_type": "markdown",
   "id": "5ce436a9",
   "metadata": {},
   "source": [
    "# get_dummyのような処理を保存する\n",
    "* モデルのようにインスタンス化ができない"
   ]
  },
  {
   "cell_type": "code",
   "execution_count": 11,
   "id": "86011936",
   "metadata": {
    "scrolled": true
   },
   "outputs": [
    {
     "data": {
      "text/html": [
       "<div>\n",
       "<style scoped>\n",
       "    .dataframe tbody tr th:only-of-type {\n",
       "        vertical-align: middle;\n",
       "    }\n",
       "\n",
       "    .dataframe tbody tr th {\n",
       "        vertical-align: top;\n",
       "    }\n",
       "\n",
       "    .dataframe thead th {\n",
       "        text-align: right;\n",
       "    }\n",
       "</style>\n",
       "<table border=\"1\" class=\"dataframe\">\n",
       "  <thead>\n",
       "    <tr style=\"text-align: right;\">\n",
       "      <th></th>\n",
       "      <th>income</th>\n",
       "      <th>name_Bill</th>\n",
       "      <th>name_Jitesh</th>\n",
       "      <th>name_John</th>\n",
       "      <th>name_Rahul</th>\n",
       "      <th>education_Grad</th>\n",
       "      <th>education_Post-Grad</th>\n",
       "    </tr>\n",
       "  </thead>\n",
       "  <tbody>\n",
       "    <tr>\n",
       "      <th>0</th>\n",
       "      <td>40</td>\n",
       "      <td>0</td>\n",
       "      <td>1</td>\n",
       "      <td>0</td>\n",
       "      <td>0</td>\n",
       "      <td>1</td>\n",
       "      <td>0</td>\n",
       "    </tr>\n",
       "    <tr>\n",
       "      <th>1</th>\n",
       "      <td>50</td>\n",
       "      <td>0</td>\n",
       "      <td>0</td>\n",
       "      <td>0</td>\n",
       "      <td>1</td>\n",
       "      <td>1</td>\n",
       "      <td>0</td>\n",
       "    </tr>\n",
       "    <tr>\n",
       "      <th>2</th>\n",
       "      <td>60</td>\n",
       "      <td>0</td>\n",
       "      <td>0</td>\n",
       "      <td>1</td>\n",
       "      <td>0</td>\n",
       "      <td>0</td>\n",
       "      <td>1</td>\n",
       "    </tr>\n",
       "    <tr>\n",
       "      <th>3</th>\n",
       "      <td>70</td>\n",
       "      <td>1</td>\n",
       "      <td>0</td>\n",
       "      <td>0</td>\n",
       "      <td>0</td>\n",
       "      <td>0</td>\n",
       "      <td>1</td>\n",
       "    </tr>\n",
       "  </tbody>\n",
       "</table>\n",
       "</div>"
      ],
      "text/plain": [
       "   income  name_Bill  name_Jitesh  name_John  name_Rahul  education_Grad  \\\n",
       "0      40          0            1          0           0               1   \n",
       "1      50          0            0          0           1               1   \n",
       "2      60          0            0          1           0               0   \n",
       "3      70          1            0          0           0               0   \n",
       "\n",
       "   education_Post-Grad  \n",
       "0                    0  \n",
       "1                    0  \n",
       "2                    1  \n",
       "3                    1  "
      ]
     },
     "metadata": {},
     "output_type": "display_data"
    },
    {
     "data": {
      "text/plain": [
       "['./outputs/columns.pkl']"
      ]
     },
     "execution_count": 11,
     "metadata": {},
     "output_type": "execute_result"
    }
   ],
   "source": [
    "import pandas as pd\n",
    "\n",
    "# Creating dataframes\n",
    "X_train = pd.DataFrame({'name'      : ['Jitesh', 'Rahul', 'John', 'Bill'],\n",
    "                        'income'    : [40, 50, 60, 70],\n",
    "                        'education' : ['Grad', 'Grad', 'Post-Grad', 'Post-Grad']})\n",
    "\n",
    "# Create dummy variables\n",
    "X_train_enc = pd.get_dummies(X_train)\n",
    "display(X_train_enc)\n",
    "\n",
    "# Extract column names as the index object\n",
    "train_enc_cols = X_train_enc.columns\n",
    "\n",
    "# Columnのリストをserialiseする\n",
    "import joblib\n",
    "obj_file = './outputs/columns.pkl'\n",
    "joblib.dump(value=train_enc_cols, filename=obj_file)"
   ]
  },
  {
   "cell_type": "code",
   "execution_count": 12,
   "id": "e472fe7d",
   "metadata": {},
   "outputs": [
    {
     "name": "stdout",
     "output_type": "stream",
     "text": [
      "Index(['education_Grad', 'education_Post-Grad', 'name_Bill', 'name_John',\n",
      "       'name_Rahul'],\n",
      "      dtype='object')\n"
     ]
    }
   ],
   "source": [
    "# Pseudo Production run\n",
    "ref_cols = joblib.load(obj_file)\n",
    "\n",
    "\n",
    "# Example Input data for the webservice\n",
    "X_deploy = pd.DataFrame({'name'      : ['Jitesh'],\n",
    "                         'income'    : [70],\n",
    "                         'education' : ['Post-Grad1']})\n",
    " \n",
    "# Create dummy variables of the production data\n",
    "X_deploy_enc = pd.get_dummies(X_deploy)\n",
    "\n",
    "# Extract column names of prod data\n",
    "deploy_cols = X_deploy_enc.columns\n",
    "\n",
    "# Extract columns present in training but not in prod\n",
    "missing_cols = ref_cols.difference(deploy_cols)\n",
    "print(missing_cols)"
   ]
  },
  {
   "cell_type": "code",
   "execution_count": 14,
   "id": "7b4e02b3",
   "metadata": {},
   "outputs": [
    {
     "name": "stdout",
     "output_type": "stream",
     "text": [
      "Extra category found\n"
     ]
    }
   ],
   "source": [
    "# 足りない列を追加する\n",
    "for cols in missing_cols:\n",
    "    X_deploy_enc[cols] = 0\n",
    "\n",
    "# 他の列があれば削除、順序を合わせる\n",
    "X_deploy_enc = X_deploy_enc[ref_cols]\n",
    "\n",
    "# Trainingに無いが、Productionだけにあるデータを検出する\n",
    "extra_cols = deploy_cols.difference(ref_cols)\n",
    "if len(extra_cols):\n",
    "    print(\"Extra category found\")"
   ]
  },
  {
   "cell_type": "markdown",
   "id": "6b593e8b",
   "metadata": {},
   "source": [
    "# モデルと列名を保存する\n",
    "* これまでの実践"
   ]
  },
  {
   "cell_type": "code",
   "execution_count": 17,
   "id": "bd79dc03",
   "metadata": {},
   "outputs": [
    {
     "name": "stdout",
     "output_type": "stream",
     "text": [
      "Accessing the workspace....\n",
      "Accessing the dataset....\n",
      "Accessing/Creating the experiment...\n",
      "Start Experiment using Start Logging method...\n",
      "Loading the dataset to pandas dataframe...\n"
     ]
    }
   ],
   "source": [
    "# Import required classes from Azureml\n",
    "from azureml.core import Workspace, Dataset, Experiment\n",
    "\n",
    "# Access the Workspace and Datasets\n",
    "print('Accessing the workspace....')\n",
    "ws = Workspace.from_config(\"./config\")\n",
    "\n",
    "print('Accessing the dataset....')\n",
    "az_dataset = Dataset.get_by_name(ws, 'adultincometrunc')\n",
    "\n",
    "# Create/Access an experiment object\n",
    "print('Accessing/Creating the experiment...')\n",
    "experiment = Experiment(workspace=ws, name='Webservice-exp001')\n",
    "\n",
    "# Run an experiment using start_logging method\n",
    "print('Start Experiment using Start Logging method...')\n",
    "new_run = experiment.start_logging()\n",
    "\n",
    "# Do your stuff here\n",
    "import pandas as pd\n",
    "\n",
    "# Load the data from the local files\n",
    "print('Loading the dataset to pandas dataframe...')\n",
    "df = az_dataset.to_pandas_dataframe()\n",
    "\n",
    "# Create X and Y Variables\n",
    "X = df.iloc[:, :-1]\n",
    "Y = df.iloc[:, -1:]\n",
    "\n",
    "# Create dummy variables\n",
    "X = pd.get_dummies(X)\n",
    "\n",
    "# Extract column names including dummy variables\n",
    "train_enc_cols = X.columns\n",
    "\n",
    "# Transform Categorical columns in Y dataset to dummy\n",
    "Y = pd.get_dummies(Y)\n",
    "Y = Y.iloc[:,-1]\n",
    "\n",
    "\n",
    "# Split Data - X and Y datasets are training and testing sets\n",
    "from sklearn.model_selection import train_test_split\n",
    "\n",
    "X_train, X_test, Y_train, Y_test = \\\n",
    "train_test_split(X, Y, test_size = 0.3, random_state = 1234, stratify=Y)\n",
    "\n",
    "\n",
    "# Build the Random Forest model\n",
    "from sklearn.ensemble import RandomForestClassifier\n",
    "\n",
    "rfc = RandomForestClassifier(random_state=1234)\n",
    "\n",
    "\n",
    "# Fit the data to the Random Forest object - Train Model\n",
    "trained_model = rfc.fit(X_train, Y_train)\n",
    "\n",
    "\n",
    "# Predict the outcome using Test data - Score Model \n",
    "Y_predict = rfc.predict(X_test)\n",
    "\n",
    "# Get the probability score - Scored Probabilities\n",
    "Y_prob = rfc.predict_proba(X_test)[:, 1]\n",
    "\n",
    "# Get Confusion matrix and the accuracy/score - Evaluate\n",
    "from sklearn.metrics import confusion_matrix\n",
    "cm    = confusion_matrix(Y_test, Y_predict)\n",
    "score = rfc.score(X_test, Y_test)\n",
    "\n",
    "# Always log the primary metric\n",
    "new_run.log(\"accuracy\", score)\n",
    "\n",
    "# Save all the transformations and models\n",
    "import joblib\n",
    "model_file = './outputs/models.pkl'\n",
    "\n",
    "joblib.dump(value=[train_enc_cols, trained_model], \n",
    "            filename=model_file)\n",
    "\n",
    "# Complete the run\n",
    "new_run.complete()"
   ]
  },
  {
   "cell_type": "markdown",
   "id": "c1382c82",
   "metadata": {},
   "source": [
    "# RunIDを使ってモデルを登録する"
   ]
  },
  {
   "cell_type": "code",
   "execution_count": 18,
   "id": "52489cc0",
   "metadata": {},
   "outputs": [
    {
     "data": {
      "text/plain": [
       "[Run(Experiment: Webservice-exp001,\n",
       " Id: d90a48f2-c1d9-465c-8679-276a2bbf7e66,\n",
       " Type: None,\n",
       " Status: Completed),\n",
       " Run(Experiment: Webservice-exp001,\n",
       " Id: 78588de1-c544-4dc7-9493-74fc1f8ff1e7,\n",
       " Type: None,\n",
       " Status: Completed)]"
      ]
     },
     "execution_count": 18,
     "metadata": {},
     "output_type": "execute_result"
    }
   ],
   "source": [
    "# Get the Run IDs from the experiment\n",
    "list(experiment.get_runs())"
   ]
  },
  {
   "cell_type": "code",
   "execution_count": 19,
   "id": "8f94bbf8",
   "metadata": {},
   "outputs": [],
   "source": [
    "from azureml.core import Workspace, Model\n",
    "\n",
    "# Access the workspace using config.json\n",
    "ws = Workspace.from_config(\"./config\")\n",
    "\n",
    "# 取得したRun_IDを使用する\n",
    "new_run = ws.get_run('78588de1-c544-4dc7-9493-74fc1f8ff1e7')"
   ]
  },
  {
   "cell_type": "code",
   "execution_count": 20,
   "id": "af04c958",
   "metadata": {},
   "outputs": [
    {
     "data": {
      "text/plain": [
       "Model(workspace=Workspace.create(name='Azureml-SDK-WS01', subscription_id='3467f739-a57b-4612-9de8-72a6616c01b3', resource_group='AzuremlSDKRG00'), name=AdultIncome_models, id=AdultIncome_models:1, version=1, tags={'source': 'SDK Run', 'algorithm': 'RandomForest'}, properties={'Accuracy': '0.79'})"
      ]
     },
     "execution_count": 20,
     "metadata": {},
     "output_type": "execute_result"
    }
   ],
   "source": [
    "# モデルをWorkspaceに登録する（ローカルではなく、クラウドから登録する）\n",
    "new_run.register_model(model_path='outputs/models.pkl', \n",
    "                       model_name='AdultIncome_models',\n",
    "                       tags={'source':'SDK Run', 'algorithm':'RandomForest'},\n",
    "                       properties={'Accuracy': new_run.get_metrics()['accuracy']}, # tagはdeleteできるがPropertyは削除できない\n",
    "                       description=\"Combined Models from Run\")"
   ]
  },
  {
   "cell_type": "markdown",
   "id": "38f3d009",
   "metadata": {},
   "source": [
    "# ローカルモデルを登録する"
   ]
  },
  {
   "cell_type": "code",
   "execution_count": 21,
   "id": "8d1f3e21",
   "metadata": {},
   "outputs": [
    {
     "name": "stdout",
     "output_type": "stream",
     "text": [
      "Registering model AdultIncome_model_local\n"
     ]
    },
    {
     "data": {
      "text/plain": [
       "Model(workspace=Workspace.create(name='Azureml-SDK-WS01', subscription_id='3467f739-a57b-4612-9de8-72a6616c01b3', resource_group='AzuremlSDKRG00'), name=AdultIncome_model_local, id=AdultIncome_model_local:1, version=1, tags={'source': 'SDK-Local', 'algorithm': 'RandomForest'}, properties={'Accuracy': '0.7866'})"
      ]
     },
     "execution_count": 21,
     "metadata": {},
     "output_type": "execute_result"
    }
   ],
   "source": [
    "from azureml.core import Model\n",
    "\n",
    "Model.register(workspace=ws,\n",
    "               model_path='./outputs/models.pkl', # local path\n",
    "               model_name='AdultIncome_model_local',\n",
    "               tags={'source':'SDK-Local', 'algorithm':'RandomForest'},\n",
    "               properties={'Accuracy': 0.7866},\n",
    "               description='AdultIncome model from Local'\n",
    "               )"
   ]
  },
  {
   "cell_type": "markdown",
   "id": "acbda99a",
   "metadata": {},
   "source": [
    "# 登録してあるモデルを使用する"
   ]
  },
  {
   "cell_type": "code",
   "execution_count": 22,
   "id": "430224ad",
   "metadata": {},
   "outputs": [
    {
     "data": {
      "text/plain": [
       "[Model(workspace=Workspace.create(name='Azureml-SDK-WS01', subscription_id='3467f739-a57b-4612-9de8-72a6616c01b3', resource_group='AzuremlSDKRG00'), name=AdultIncome_model_local, id=AdultIncome_model_local:1, version=1, tags={'source': 'SDK-Local', 'algorithm': 'RandomForest'}, properties={'Accuracy': '0.7866'}),\n",
       " Model(workspace=Workspace.create(name='Azureml-SDK-WS01', subscription_id='3467f739-a57b-4612-9de8-72a6616c01b3', resource_group='AzuremlSDKRG00'), name=AdultIncome_models, id=AdultIncome_models:1, version=1, tags={'source': 'SDK Run', 'algorithm': 'RandomForest'}, properties={'Accuracy': '0.79'})]"
      ]
     },
     "execution_count": 22,
     "metadata": {},
     "output_type": "execute_result"
    }
   ],
   "source": [
    "# Retrieve the registered models\n",
    "Model.list(ws)"
   ]
  },
  {
   "cell_type": "code",
   "execution_count": 23,
   "id": "ed22a1a1",
   "metadata": {},
   "outputs": [
    {
     "name": "stdout",
     "output_type": "stream",
     "text": [
      "\n",
      " AdultIncome_model_local version: 1\n",
      "\t Run_ID :  None\n",
      "\t Accuracy : 0.7866\n",
      "\t source : SDK-Local\n",
      "\t algorithm : RandomForest\n",
      "\n",
      " AdultIncome_models version: 1\n",
      "\t Run_ID :  78588de1-c544-4dc7-9493-74fc1f8ff1e7\n",
      "\t Accuracy : 0.79\n",
      "\t source : SDK Run\n",
      "\t algorithm : RandomForest\n"
     ]
    }
   ],
   "source": [
    "for model in Model.list(ws):  \n",
    "    print('\\n', model.name, 'version:', model.version)\n",
    "    print('\\t', 'Run_ID : ', model.run_id)\n",
    "    for prop_name in model.properties:\n",
    "        prop = model.properties[prop_name]\n",
    "        print ('\\t',prop_name, ':', prop)\n",
    "    \n",
    "    for tags in model.tags:\n",
    "        tag = model.tags[tags]\n",
    "        print ('\\t',tags, ':', tag)"
   ]
  },
  {
   "cell_type": "markdown",
   "id": "019df39c",
   "metadata": {},
   "source": [
    "# Inference Clusterを作成する"
   ]
  },
  {
   "cell_type": "code",
   "execution_count": 6,
   "id": "554b2b08",
   "metadata": {},
   "outputs": [
    {
     "name": "stdout",
     "output_type": "stream",
     "text": [
      "{\"name\": [\"Jitesh\"], \"age\": [40]}\n",
      "{'name': ['Jitesh'], 'age': [40]}\n"
     ]
    },
    {
     "data": {
      "text/html": [
       "<div>\n",
       "<style scoped>\n",
       "    .dataframe tbody tr th:only-of-type {\n",
       "        vertical-align: middle;\n",
       "    }\n",
       "\n",
       "    .dataframe tbody tr th {\n",
       "        vertical-align: top;\n",
       "    }\n",
       "\n",
       "    .dataframe thead th {\n",
       "        text-align: right;\n",
       "    }\n",
       "</style>\n",
       "<table border=\"1\" class=\"dataframe\">\n",
       "  <thead>\n",
       "    <tr style=\"text-align: right;\">\n",
       "      <th></th>\n",
       "      <th>name</th>\n",
       "      <th>age</th>\n",
       "    </tr>\n",
       "  </thead>\n",
       "  <tbody>\n",
       "    <tr>\n",
       "      <th>0</th>\n",
       "      <td>Jitesh</td>\n",
       "      <td>40</td>\n",
       "    </tr>\n",
       "  </tbody>\n",
       "</table>\n",
       "</div>"
      ],
      "text/plain": [
       "     name  age\n",
       "0  Jitesh   40"
      ]
     },
     "execution_count": 6,
     "metadata": {},
     "output_type": "execute_result"
    }
   ],
   "source": [
    "# jsonファイルの扱い方\n",
    "# dict ⇒ json\n",
    "import json\n",
    "d1 = {'name' : ['Jitesh'],\n",
    "     'age' : [40]}\n",
    "d1_j = json.dumps(d1)\n",
    "print(d1_j)\n",
    "\n",
    "# json ⇒ dict\n",
    "d2 = json.loads(d1_j)\n",
    "print(d2)\n",
    "\n",
    "# dict ⇒ pandas\n",
    "import pandas as pd\n",
    "df1 = pd.DataFrame.from_dict(d1)\n",
    "df1.head()"
   ]
  },
  {
   "cell_type": "code",
   "execution_count": 7,
   "id": "121ac839",
   "metadata": {},
   "outputs": [
    {
     "name": "stdout",
     "output_type": "stream",
     "text": [
      "Accessing the workspace from job....\n"
     ]
    },
    {
     "name": "stderr",
     "output_type": "stream",
     "text": [
      "Warning: Falling back to use azure cli login credentials.\n",
      "If you run your code in unattended mode, i.e., where you can't give a user input, then we recommend to use ServicePrincipalAuthentication or MsiAuthentication.\n",
      "Please refer to aka.ms/aml-notebook-auth for different authentication mechanisms in azureml-sdk.\n"
     ]
    },
    {
     "name": "stdout",
     "output_type": "stream",
     "text": [
      "Creating dependencies....\n",
      "Registering the environment...\n",
      "aks-cluster-001 exists. Using it...\n"
     ]
    }
   ],
   "source": [
    "# Import the Azure ML classes\n",
    "from azureml.core import Workspace\n",
    "\n",
    "# Access the workspace using config.json\n",
    "print(\"Accessing the workspace from job....\")\n",
    "ws = Workspace.from_config(\"./config\")\n",
    "\n",
    "# Create custom environment\n",
    "from azureml.core import Environment\n",
    "from azureml.core.environment import CondaDependencies\n",
    "\n",
    "# Create the environment\n",
    "myenv = Environment(name=\"MyEnvironment\")\n",
    "\n",
    "# Create the dependencies object\n",
    "print(\"Creating dependencies....\")\n",
    "myenv_dep = CondaDependencies.create(conda_packages=['scikit-learn', 'pip', 'pandas'],\n",
    "                                     pip_packages=['azureml-defaults'])\n",
    "\n",
    "myenv.python.conda_dependencies = myenv_dep\n",
    "\n",
    "# Register the environment\n",
    "print(\"Registering the environment...\")\n",
    "myenv.register(ws)\n",
    "\n",
    "\n",
    "# Create an Azure Kubernets Cluster\n",
    "from azureml.core.compute import AksCompute, ComputeTarget\n",
    "\n",
    "cluster_name = 'aks-cluster-001'\n",
    "\n",
    "if cluster_name not in ws.compute_targets:\n",
    "    print(cluster_name, \"does not exist. Creating a new one...\")\n",
    "    print('Creating provisioniong config for Aks cluster....')\n",
    "\n",
    "    aks_config = AksCompute.provisioning_configuration(location='eastus',\n",
    "                                                       vm_size='STANDARD_D11_V2',\n",
    "                                                       agent_count=1,\n",
    "                                                       cluster_purpose='DevTest')\n",
    "\n",
    "    print(\"Creating the AKS Cluster...\")\n",
    "    production_cluster = ComputeTarget.create(ws, cluster_name, aks_config)\n",
    "    production_cluster.wait_for_completion(show_output=True)\n",
    "else:\n",
    "    print(cluster_name, \"exists. Using it...\")\n",
    "    production_cluster = ws.compute_targets[cluster_name]"
   ]
  },
  {
   "cell_type": "markdown",
   "id": "7c65c103",
   "metadata": {},
   "source": [
    "# Deploy"
   ]
  },
  {
   "cell_type": "code",
   "execution_count": 24,
   "id": "8afc6be6",
   "metadata": {},
   "outputs": [
    {
     "name": "stdout",
     "output_type": "stream",
     "text": [
      "Creating Inference Configuration...\n"
     ]
    }
   ],
   "source": [
    "# Create Inference Configuration\n",
    "from azureml.core.model import InferenceConfig\n",
    "\n",
    "print(\"Creating Inference Configuration...\")\n",
    "# scoring_scriptの中身に日本語があるとUnicode Decode Errorが出るので注意\n",
    "inference_config = InferenceConfig(source_directory = './script',\n",
    "                                   entry_script='scoring_script.py',\n",
    "                                   environment=myenv)"
   ]
  },
  {
   "cell_type": "code",
   "execution_count": 25,
   "id": "8612177b",
   "metadata": {},
   "outputs": [
    {
     "name": "stdout",
     "output_type": "stream",
     "text": [
      "Creating the Deployment configuration for webservice...\n"
     ]
    }
   ],
   "source": [
    "# Create service deployment configuration\n",
    "from azureml.core.webservice import AksWebservice\n",
    "\n",
    "print('Creating the Deployment configuration for webservice...')\n",
    "deploy_config = AksWebservice.deploy_configuration(cpu_cores = 1,\n",
    "                                                   memory_gb = 1)"
   ]
  },
  {
   "cell_type": "code",
   "execution_count": 26,
   "id": "8a77e2a0",
   "metadata": {},
   "outputs": [
    {
     "name": "stdout",
     "output_type": "stream",
     "text": [
      "Deploying the web service....\n"
     ]
    },
    {
     "name": "stderr",
     "output_type": "stream",
     "text": [
      "<ipython-input-26-aafdee0a0cba>:7: FutureWarning: azureml.core.model:\n",
      "To leverage new model deployment capabilities, AzureML recommends using CLI/SDK v2 to deploy models as online endpoint, \n",
      "please refer to respective documentations \n",
      "https://docs.microsoft.com/azure/machine-learning/how-to-deploy-managed-online-endpoints /\n",
      "https://docs.microsoft.com/azure/machine-learning/how-to-deploy-managed-online-endpoint-sdk-v2 /\n",
      "https://docs.microsoft.com/azure/machine-learning/how-to-attach-kubernetes-anywhere \n",
      "For more information on migration, see https://aka.ms/acimoemigration. \n",
      "To disable CLI/SDK v1 deprecation warning set AZUREML_LOG_DEPRECATION_WARNING_ENABLED to 'False'\n",
      "  service = Model.deploy(workspace=ws,\n"
     ]
    },
    {
     "name": "stdout",
     "output_type": "stream",
     "text": [
      "Tips: You can try get_logs(): https://aka.ms/debugimage#dockerlog or local deployment: https://aka.ms/debugimage#debug-locally to debug if deployment takes longer than 10 minutes.\n",
      "Running\n",
      "2022-10-06 23:55:41+09:00 Creating Container Registry if not exists.\n",
      "2022-10-06 23:55:42+09:00 Registering the environment.\n",
      "2022-10-06 23:55:44+09:00 Use the existing image.\n",
      "2022-10-06 23:55:46+09:00 Creating resources in AKS..\n",
      "2022-10-06 23:55:53+09:00 Submitting deployment to compute.\n",
      "2022-10-06 23:55:54+09:00 Checking the status of deployment adultincome-service..\n",
      "2022-10-07 00:00:09+09:00 Checking the status of inference endpoint adultincome-service.\n",
      "Succeeded\n",
      "AKS service creation operation finished, operation \"Succeeded\"\n"
     ]
    }
   ],
   "source": [
    "# Create and deploy the webservice\n",
    "from azureml.core.model import Model\n",
    "\n",
    "model = ws.models['AdultIncome_models']\n",
    "\n",
    "print('Deploying the web service....')\n",
    "service = Model.deploy(workspace=ws,\n",
    "                       name = 'adultincome-service',\n",
    "                       models = [model],\n",
    "                       inference_config = inference_config,\n",
    "                       deployment_config = deploy_config,\n",
    "                       deployment_target = production_cluster)\n",
    "service.wait_for_deployment(show_output = True)"
   ]
  },
  {
   "cell_type": "markdown",
   "id": "9b42d8c4",
   "metadata": {},
   "source": [
    "# Web Serviceを実行"
   ]
  },
  {
   "cell_type": "code",
   "execution_count": 27,
   "id": "4a679651",
   "metadata": {},
   "outputs": [
    {
     "name": "stdout",
     "output_type": "stream",
     "text": [
      "Accessing the workspace....\n",
      "Accessing the service end-points\n",
      "Calling the service...\n",
      "Printing the predicted class...\n",
      "\n",
      " ['Greater Than 50K']\n"
     ]
    }
   ],
   "source": [
    "# Consume the service end point using workspace access.\n",
    "# Import the Azure ML classes\n",
    "from azureml.core import Workspace\n",
    "\n",
    "# Access the workspace using config file\n",
    "print(\"Accessing the workspace....\")\n",
    "ws = Workspace.from_config(\"./config\")\n",
    "\n",
    "# Access the service end points\n",
    "print(\"Accessing the service end-points\")\n",
    "service = ws.webservices['adultincome-service']\n",
    "\n",
    "# Prepare the input data\n",
    "import json\n",
    "\n",
    "x_new = {'age':[46],\n",
    "         'wc':['Private'],\n",
    "         'education':['Masters'],\n",
    "         'marital status':['Married'],\n",
    "         'race':['White'],\n",
    "         'gender':['Male'],\n",
    "         'hours per week':[60]}\n",
    "\n",
    "# Convert the dictionary to a serializable list in json\n",
    "json_data = json.dumps({\"data\": x_new})\n",
    "\n",
    "# Call the web service\n",
    "print(\"Calling the service...\")\n",
    "response = service.run(input_data = json_data)\n",
    "\n",
    "# Collect and convert the response in local variable\n",
    "print(\"Printing the predicted class...\")\n",
    "predicted_classes = json.loads(response)\n",
    "\n",
    "print('\\n', predicted_classes)"
   ]
  },
  {
   "cell_type": "markdown",
   "id": "75f8bf9f",
   "metadata": {},
   "source": [
    "# REST APIで実行"
   ]
  },
  {
   "cell_type": "code",
   "execution_count": 1,
   "id": "855edf08",
   "metadata": {},
   "outputs": [
    {
     "name": "stdout",
     "output_type": "stream",
     "text": [
      "\n",
      " ['Less Than 50K']\n"
     ]
    }
   ],
   "source": [
    "import requests\n",
    "import json\n",
    "\n",
    "# Set the URI for the web service\n",
    "scoring_uri = 'http://52.142.38.209:80/api/v1/service/adultincome-service/score'\n",
    "\n",
    "# Prepare the input data and create the serialized JSON\n",
    "x_new = {'age':[21],\n",
    "         'wc':['Private'],\n",
    "         'education':['HS-grad'],\n",
    "         'marital status':['Never-married'],\n",
    "         'race':['White'],\n",
    "         'gender':['Male'],\n",
    "         'hours per week':[30]}\n",
    "\n",
    "# Convert the input data to a serialized JSON\n",
    "json_data = json.dumps({\"data\": x_new})\n",
    "\n",
    "# Create the headers with authorization key\n",
    "key = 'S9bxkSzdOihqKzV4h1qrzv9zkqqchxNz'\n",
    "\n",
    "# Set the content type and authorization\n",
    "headers = {'Content-Type': 'application/json',\n",
    "           'Authorization' : f'Bearer {key}'}\n",
    "\n",
    "# Make the request using POST method and collect the response\n",
    "response = requests.post(scoring_uri, json_data, headers=headers)\n",
    "predicted_classes = json.loads(response.json())\n",
    "\n",
    "print('\\n', predicted_classes)"
   ]
  },
  {
   "cell_type": "code",
   "execution_count": null,
   "id": "a2bee711",
   "metadata": {},
   "outputs": [],
   "source": []
  }
 ],
 "metadata": {
  "kernelspec": {
   "display_name": "Python 3",
   "language": "python",
   "name": "python3"
  },
  "language_info": {
   "codemirror_mode": {
    "name": "ipython",
    "version": 3
   },
   "file_extension": ".py",
   "mimetype": "text/x-python",
   "name": "python",
   "nbconvert_exporter": "python",
   "pygments_lexer": "ipython3",
   "version": "3.8.8"
  }
 },
 "nbformat": 4,
 "nbformat_minor": 5
}
